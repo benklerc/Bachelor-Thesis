{
 "cells": [
  {
   "cell_type": "code",
   "execution_count": null,
   "metadata": {},
   "outputs": [],
   "source": [
    "%reload_ext autoreload\n",
    "%autoreload 2"
   ]
  },
  {
   "cell_type": "code",
   "execution_count": null,
   "metadata": {},
   "outputs": [],
   "source": [
    "from peptdeep.pretrained_models import ModelManager\n",
    "from peptdeep import settings\n",
    "import numpy as np\n",
    "import pandas as pd\n",
    "import matplotlib.pyplot as plt\n",
    "import matplotlib.colors as mcolors\n",
    "import seaborn as sns\n",
    "import sklearn.metrics as sk\n",
    "import sklearn.linear_model as sk_lm\n",
    "from alphabase.psm_reader import psm_reader_provider"
   ]
  },
  {
   "cell_type": "code",
   "execution_count": null,
   "metadata": {},
   "outputs": [],
   "source": [
    "df_base = pd.read_csv(\"evidence_freshfrozen_base.txt\",  sep=\"\\t\")"
   ]
  },
  {
   "cell_type": "code",
   "execution_count": null,
   "metadata": {},
   "outputs": [],
   "source": [
    "# split df into the 3 Experiments\n",
    "df = df_base\n",
    "df_51 = df[df[\"Experiment\"]=='P064051']\n",
    "df_64 = df[df[\"Experiment\"]=='P064064']\n",
    "df_28 = df[df[\"Experiment\"]=='P064428']"
   ]
  },
  {
   "cell_type": "markdown",
   "metadata": {},
   "source": [
    "# Load Model"
   ]
  },
  {
   "cell_type": "markdown",
   "metadata": {},
   "source": [
    "# Transfer Learning"
   ]
  },
  {
   "cell_type": "markdown",
   "metadata": {},
   "source": [
    "## Training"
   ]
  },
  {
   "cell_type": "code",
   "execution_count": null,
   "metadata": {},
   "outputs": [],
   "source": [
    "# imprved sampling\n",
    "n = 10000\n",
    "\n",
    "# ensure same quantity of experiments\n",
    "\n",
    "# calculate the numbers for each experiment\n",
    "n_51 = round((len(df_51)/len(df))*n)\n",
    "n_64 = round((len(df_64)/len(df))*n)\n",
    "n_28 = round((len(df_28)/len(df))*n)\n",
    "\n",
    "df_51 = df_51.sample(n = n_51, random_state =  42)\n",
    "df_64 = df_64.sample(n = n_64, random_state = 42)\n",
    "df_28 = df_28.sample(n=n_28, random_state = 42)\n",
    "\n",
    "df_train = pd.concat(objs=[df_51, df_64, df_28])\n",
    "print(len(df_train))\n"
   ]
  },
  {
   "cell_type": "code",
   "execution_count": null,
   "metadata": {},
   "outputs": [],
   "source": [
    "# turn training df into alpha base format\n",
    "df_train.loc[:,'Original index'] = df_train.index\n",
    "# run AlphaBase\n",
    "mq_reader = psm_reader_provider.get_reader('maxquant')\n",
    "mq_reader.column_mapping['Original index'] = 'Original index'\n",
    "mq_reader._translate_columns(df_train)\n",
    "mq_reader._transform_table(df_train)\n",
    "mq_reader._translate_decoy(df_train)\n",
    "mq_reader._translate_score(df_train)\n",
    "mq_reader._load_modifications(df_train)\n",
    "mq_reader._translate_modifications()\n",
    "mq_reader._post_process(df_train)  \n",
    "df_train_ab = mq_reader.psm_df"
   ]
  },
  {
   "cell_type": "code",
   "execution_count": null,
   "metadata": {},
   "outputs": [],
   "source": [
    "models = ModelManager(device = 'gpu')\n",
    "models.load_installed_models()"
   ]
  },
  {
   "cell_type": "code",
   "execution_count": null,
   "metadata": {},
   "outputs": [],
   "source": [
    "models.train_ccs_model(df_train_ab)"
   ]
  },
  {
   "cell_type": "markdown",
   "metadata": {},
   "source": [
    "## Testing"
   ]
  },
  {
   "cell_type": "code",
   "execution_count": null,
   "metadata": {},
   "outputs": [],
   "source": [
    "# turn training df into alpha base format\n",
    "df_mq = df_base\n",
    "df_mq.loc[:,'Original index'] = df_mq.index\n",
    "# run AlphaBase\n",
    "mq_reader = psm_reader_provider.get_reader('maxquant')\n",
    "mq_reader.column_mapping['Original index'] = 'Original index'\n",
    "mq_reader._translate_columns(df_mq)\n",
    "mq_reader._transform_table(df_mq)\n",
    "mq_reader._translate_decoy(df_mq)\n",
    "mq_reader._translate_score(df_mq)\n",
    "mq_reader._load_modifications(df_mq)\n",
    "mq_reader._translate_modifications()\n",
    "mq_reader._post_process(df_mq)  \n",
    "df_ab = mq_reader.psm_df"
   ]
  },
  {
   "cell_type": "code",
   "execution_count": null,
   "metadata": {},
   "outputs": [],
   "source": [
    "# predict whole dataset\n",
    "prediction = models.predict_mobility(df_ab)"
   ]
  },
  {
   "cell_type": "code",
   "execution_count": null,
   "metadata": {},
   "outputs": [],
   "source": [
    "prediction.to_csv('predictions/pred_trans_v2', sep = '\\t')"
   ]
  },
  {
   "cell_type": "code",
   "execution_count": null,
   "metadata": {},
   "outputs": [],
   "source": [
    "# merging alpha base format back to MaxQuant\n",
    "#df_ab = pd.read_csv('comparisons/comp_all_trans.txt', sep = '\\t')\n",
    "df_ab = prediction\n",
    "df_comp = df_base\n",
    "df_comp['ccs_pred'] = df_ab['ccs_pred']\n",
    "df_comp['mobility_pred'] = df_ab['mobility_pred']\n",
    "mapping_dict = {\n",
    "            'sequence': 'Sequence',\n",
    "            'charge': 'Charge',\n",
    "            'rt': 'Retention time',\n",
    "            'ccs': 'CCS',\n",
    "            'mobility': '1/K0',\n",
    "            'scan_num': 'MS/MS scan number',\n",
    "            'raw_name': 'Raw file',\n",
    "            'precursor_mz': 'm/z',\n",
    "            'score': 'Score',\n",
    "            'proteins': 'Proteins',\n",
    "            'genes': 'Gene names',\n",
    "            'decoy': 'Reverse',\n",
    "            'intensity': 'Intensity',\n",
    "            'nAA':'Length'}\n",
    "merging_list = ['Sequence', 'Charge', 'CCS', 'Score', 'Length', 'Retention time', 'Proteins', 'Gene names','1/K0' , 'MS/MS scan number', 'Raw file'\n",
    "                                                  , 'm/z', 'Intensity' ]\n",
    "        # rename the columns of the alphabase dataframe according to the mapping dict\n",
    "df_ab.rename(columns=mapping_dict, inplace=True)\n",
    "        # set the original index as index\n",
    "#df_ab.set_index('Original index', inplace=True)\n",
    "df_merged = pd.merge( df_comp,df_ab, on = merging_list, how = 'inner')\n",
    "df_merged.to_csv('comparisons/comp_trans_v2_orig.txt', sep = '\\t')"
   ]
  },
  {
   "cell_type": "code",
   "execution_count": null,
   "metadata": {},
   "outputs": [],
   "source": [
    "df_comp = pd.read_csv('comparisons/comp_trans_orig.txt', sep = '\\t')"
   ]
  },
  {
   "cell_type": "code",
   "execution_count": null,
   "metadata": {},
   "outputs": [],
   "source": [
    "df_pred = df_merged"
   ]
  },
  {
   "cell_type": "code",
   "execution_count": null,
   "metadata": {},
   "outputs": [],
   "source": [
    "df_pred['ccs_diff'] = np.subtract(df_pred['CCS'], df_pred['ccs_pred_y'])\n",
    "df_pred['IM_diff'] = np.subtract(df_pred['1/K0'], df_pred['mobility_pred_y'])"
   ]
  },
  {
   "cell_type": "code",
   "execution_count": null,
   "metadata": {},
   "outputs": [],
   "source": [
    "plt.hist(df_pred['IM_diff'], bins=100)\n",
    "plt.axvline(x = 0.0, c = 'black', linestyle = '--')\n",
    "plt.xlabel('1/K0 Difference')\n",
    "plt.title('Adjusted Error(Transfer Learning)')"
   ]
  },
  {
   "cell_type": "code",
   "execution_count": null,
   "metadata": {},
   "outputs": [],
   "source": [
    "print(df_pred['ccs_diff'].mean())\n",
    "print(df_pred['ccs_diff'].std())"
   ]
  },
  {
   "cell_type": "code",
   "execution_count": null,
   "metadata": {},
   "outputs": [],
   "source": [
    "print(df_pred['ccs_diff'].abs().mean())"
   ]
  },
  {
   "cell_type": "code",
   "execution_count": null,
   "metadata": {},
   "outputs": [],
   "source": [
    "# percentile of CCS Difference\n",
    "perc_low = np.percentile(df_pred['ccs_diff'], 2.5)\n",
    "perc_up = np.percentile(df_pred['ccs_diff'], 97.5)\n",
    "print(f'({perc_low}, {perc_up})')\n"
   ]
  },
  {
   "cell_type": "code",
   "execution_count": null,
   "metadata": {},
   "outputs": [],
   "source": [
    "print((perc_low)*(-1)+perc_up)\n",
    "window = (perc_low)*(-1)+perc_up"
   ]
  },
  {
   "cell_type": "code",
   "execution_count": null,
   "metadata": {},
   "outputs": [],
   "source": [
    "print(df_pred['IM_diff'].mean())\n",
    "print(df_pred['IM_diff'].std())\n"
   ]
  },
  {
   "cell_type": "code",
   "execution_count": null,
   "metadata": {},
   "outputs": [],
   "source": [
    "# percentile of IM Difference\n",
    "perc_low = np.percentile(df_pred['IM_diff'], 2.5)\n",
    "perc_up = np.percentile(df_pred['IM_diff'], 97.5)\n",
    "print(f'({perc_low}, {perc_up})')\n"
   ]
  },
  {
   "cell_type": "code",
   "execution_count": null,
   "metadata": {},
   "outputs": [],
   "source": [
    "print((perc_low)*(-1)+perc_up)\n",
    "window = (perc_low)*(-1)+perc_up"
   ]
  },
  {
   "cell_type": "markdown",
   "metadata": {},
   "source": [
    "## Plots"
   ]
  },
  {
   "cell_type": "code",
   "execution_count": null,
   "metadata": {},
   "outputs": [],
   "source": [
    "# violin plot: experiment vs CCS error\n",
    "plt.figure(figsize=(10, 6))\n",
    "sns.violinplot(x='Experiment', y='ccs_diff', data=df_pred, density_norm='count')\n",
    "\n",
    "# Set plot labels and title\n",
    "plt.xlabel('Biological Replicate')\n",
    "plt.ylabel('CCS Error')\n",
    "plt.hlines(y = 0.0, xmin = -0.5, xmax= 2.5, linestyles='--', colors='grey')\n",
    "\n",
    "# Display the plot\n",
    "plt.show()"
   ]
  },
  {
   "cell_type": "code",
   "execution_count": null,
   "metadata": {},
   "outputs": [],
   "source": [
    "print(df_pred[df_pred['Experiment']=='P064051']['ccs_diff'].mean())\n",
    "print(df_pred[df_pred['Experiment']=='P064064']['ccs_diff'].mean())\n",
    "print(df_pred[df_pred['Experiment']=='P064428']['ccs_diff'].mean())"
   ]
  },
  {
   "cell_type": "code",
   "execution_count": null,
   "metadata": {},
   "outputs": [],
   "source": [
    "print(df_pred[df_pred['Experiment']=='P064051']['IM_diff'].mean())\n",
    "print(df_pred[df_pred['Experiment']=='P064064']['IM_diff'].mean())\n",
    "print(df_pred[df_pred['Experiment']=='P064428']['IM_diff'].mean())"
   ]
  },
  {
   "cell_type": "code",
   "execution_count": null,
   "metadata": {},
   "outputs": [],
   "source": [
    "# violin plot: fractions vs CCS error\n",
    "plt.figure(figsize=(15, 6))\n",
    "sns.violinplot(x='Fraction', y='ccs_diff', data=df_comp_trans, scale='count', width=1.0)\n",
    "\n",
    "# Set plot labels and title\n",
    "plt.xlabel('Fraction')\n",
    "plt.ylabel('CCS Error')\n",
    "plt.hlines(y = 0.0, xmin = -0.5, xmax= 48, linestyles='--', colors='grey')\n",
    "\n",
    "# Display the plot\n",
    "plt.show()"
   ]
  },
  {
   "cell_type": "markdown",
   "metadata": {},
   "source": [
    "# Transfer Learning per Experiment"
   ]
  },
  {
   "cell_type": "markdown",
   "metadata": {},
   "source": [
    "## Ex 51"
   ]
  },
  {
   "cell_type": "code",
   "execution_count": null,
   "metadata": {},
   "outputs": [],
   "source": [
    "df = df_51\n",
    "df_train = df.sample(n = round(0.3*len(df)), random_state=42)\n",
    "print(len(df_train))"
   ]
  },
  {
   "cell_type": "code",
   "execution_count": null,
   "metadata": {},
   "outputs": [],
   "source": [
    "# turn training df into alpha base format\n",
    "df_train.loc[:,'Original index'] = df_train.index\n",
    "# run AlphaBase\n",
    "mq_reader = psm_reader_provider.get_reader('maxquant')\n",
    "mq_reader.column_mapping['Original index'] = 'Original index'\n",
    "mq_reader._translate_columns(df_train)\n",
    "mq_reader._transform_table(df_train)\n",
    "mq_reader._translate_decoy(df_train)\n",
    "mq_reader._translate_score(df_train)\n",
    "mq_reader._load_modifications(df_train)\n",
    "mq_reader._translate_modifications()\n",
    "mq_reader._post_process(df_train)  \n",
    "df_train_ab = mq_reader.psm_df"
   ]
  },
  {
   "cell_type": "code",
   "execution_count": null,
   "metadata": {},
   "outputs": [],
   "source": [
    "models = ModelManager(device = 'gpu')\n",
    "models.load_installed_models()\n"
   ]
  },
  {
   "cell_type": "code",
   "execution_count": null,
   "metadata": {},
   "outputs": [],
   "source": [
    "models.train_ccs_model(df_train_ab)"
   ]
  },
  {
   "cell_type": "code",
   "execution_count": null,
   "metadata": {},
   "outputs": [],
   "source": [
    "# turn complete df into alpha base format\n",
    "df = df_51\n",
    "df.loc[:,'Original index'] = df.index\n",
    "# run AlphaBase\n",
    "mq_reader = psm_reader_provider.get_reader('maxquant')\n",
    "mq_reader.column_mapping['Original index'] = 'Original index'\n",
    "mq_reader._translate_columns(df)\n",
    "mq_reader._transform_table(df)\n",
    "mq_reader._translate_decoy(df)\n",
    "mq_reader._translate_score(df)\n",
    "mq_reader._load_modifications(df)\n",
    "mq_reader._translate_modifications()\n",
    "mq_reader._post_process(df)  \n",
    "df_ab = mq_reader.psm_df"
   ]
  },
  {
   "cell_type": "code",
   "execution_count": null,
   "metadata": {},
   "outputs": [],
   "source": [
    "prediction = models.predict_mobility(df_ab)"
   ]
  },
  {
   "cell_type": "code",
   "execution_count": null,
   "metadata": {},
   "outputs": [],
   "source": [
    "# merging alpha base format back to MaxQuant\n",
    "\n",
    "df['ccs_pred'] = prediction['ccs_pred']\n",
    "df['mobility_pred'] = prediction['mobility_pred']\n",
    "mapping_dict = {\n",
    "            'sequence': 'Sequence',\n",
    "            'charge': 'Charge',\n",
    "            'rt': 'Retention time',\n",
    "            'ccs': 'CCS',\n",
    "            'mobility': '1/K0',\n",
    "            'scan_num': 'MS/MS scan number',\n",
    "            'raw_name': 'Raw file',\n",
    "            'precursor_mz': 'm/z',\n",
    "            'score': 'Score',\n",
    "            'proteins': 'Proteins',\n",
    "            'genes': 'Gene names',\n",
    "            'decoy': 'Reverse',\n",
    "            'intensity': 'Intensity',\n",
    "            'nAA':'Length'}\n",
    "merging_list = ['Sequence', 'Charge', 'CCS', 'Score', 'Length', 'Retention time', 'Proteins', 'Gene names','1/K0' , 'MS/MS scan number', 'Raw file'\n",
    "                                                  , 'm/z', 'Intensity' ]\n",
    "        # rename the columns of the alphabase dataframe according to the mapredictionping dict\n",
    "prediction.rename(columns=mapping_dict, inplace=True)\n",
    "        # set the original index as index\n",
    "#prediction.set_index('Original index', inplace=True)\n",
    "df_merged = pd.merge(df, prediction, on = merging_list, how = 'inner')\n",
    "#df_merged.to_csv('comparisons/comp__trans_orig.txt', sep = '\\t')\n",
    "\n",
    "df_merged['ccs_diff'] = np.subtract(df_merged['CCS'], df_merged['ccs_pred_y'])\n",
    "df_merged['IM_diff'] = np.subtract(df_merged['1/K0'], df_merged['mobility_pred_y'])\n",
    "\n",
    "sns.violinplot(x='Experiment', y='ccs_diff', data=df_merged, density_norm='count')\n",
    "print(f'Mean Error: {df_merged['ccs_diff'].mean()}')\n",
    "# percentile of CCS Difference\n",
    "perc_low = np.percentile(df_merged['ccs_diff'], 2.5)\n",
    "perc_up = np.percentile(df_merged['ccs_diff'], 97.5)\n",
    "print(f'Percentiles:({perc_low}, {perc_up})')\n",
    "\n",
    "print(f'Window:{(perc_low)*(-1)+perc_up}')\n",
    "window = (perc_low)*(-1)+perc_up\n"
   ]
  },
  {
   "cell_type": "markdown",
   "metadata": {},
   "source": [
    "### Run 51 trained model on all experiments"
   ]
  },
  {
   "cell_type": "code",
   "execution_count": null,
   "metadata": {},
   "outputs": [],
   "source": [
    "df = pd.read_csv('evidence_freshfrozen_base.txt', sep = '\\t')"
   ]
  },
  {
   "cell_type": "code",
   "execution_count": null,
   "metadata": {},
   "outputs": [],
   "source": [
    "# turn complete df into alpha base format\n",
    "df = df_base\n",
    "df.loc[:,'Original index'] = df.index\n",
    "# run AlphaBase\n",
    "mq_reader = psm_reader_provider.get_reader('maxquant')\n",
    "mq_reader.column_mapping['Original index'] = 'Original index'\n",
    "mq_reader._translate_columns(df)\n",
    "mq_reader._transform_table(df)\n",
    "mq_reader._translate_decoy(df)\n",
    "mq_reader._translate_score(df)\n",
    "mq_reader._load_modifications(df)\n",
    "mq_reader._translate_modifications()\n",
    "mq_reader._post_process(df)  \n",
    "df_ab = mq_reader.psm_df"
   ]
  },
  {
   "cell_type": "code",
   "execution_count": null,
   "metadata": {},
   "outputs": [],
   "source": [
    "prediction = models.predict_mobility(df_ab)"
   ]
  },
  {
   "cell_type": "code",
   "execution_count": null,
   "metadata": {},
   "outputs": [],
   "source": [
    "# merging alpha base format back to MaxQuant\n",
    "\n",
    "df['ccs_pred'] = prediction['ccs_pred']\n",
    "df['mobility_pred'] = prediction['mobility_pred']\n",
    "mapping_dict = {\n",
    "            'sequence': 'Sequence',\n",
    "            'charge': 'Charge',\n",
    "            'rt': 'Retention time',\n",
    "            'ccs': 'CCS',\n",
    "            'mobility': '1/K0',\n",
    "            'scan_num': 'MS/MS scan number',\n",
    "            'raw_name': 'Raw file',\n",
    "            'precursor_mz': 'm/z',\n",
    "            'score': 'Score',\n",
    "            'proteins': 'Proteins',\n",
    "            'genes': 'Gene names',\n",
    "            'decoy': 'Reverse',\n",
    "            'intensity': 'Intensity',\n",
    "            'nAA':'Length'}\n",
    "merging_list = ['Sequence', 'Charge', 'CCS', 'Score', 'Length', 'Retention time', 'Proteins', 'Gene names','1/K0' , 'MS/MS scan number', 'Raw file'\n",
    "                                                  , 'm/z', 'Intensity' ]\n",
    "        # rename the columns of the alphabase dataframe according to the mapredictionping dict\n",
    "prediction.rename(columns=mapping_dict, inplace=True)\n",
    "        # set the original index as index\n",
    "prediction.set_index('Original index', inplace=True)\n",
    "df_pred = pd.merge(df, prediction, on = merging_list, how = 'inner')\n",
    "#df_merged.to_csv('comparisons/comp__trans_orig.txt', sep = '\\t')\n",
    "df_pred['ccs_diff'] = np.subtract(df_pred['CCS'], df_pred['ccs_pred_y'])\n",
    "df_pred['IM_diff'] = np.subtract(df_pred['1/K0'], df_pred['mobility_pred_y'])\n"
   ]
  },
  {
   "cell_type": "code",
   "execution_count": null,
   "metadata": {},
   "outputs": [],
   "source": [
    "df_pred.to_csv('comparisons/comp_trans_51.txt', sep = '\\t')"
   ]
  },
  {
   "cell_type": "code",
   "execution_count": null,
   "metadata": {},
   "outputs": [],
   "source": [
    "# violin plot: experiment vs CCS error\n",
    "plt.figure(figsize=(10, 6))\n",
    "sns.violinplot(x='Experiment', y='ccs_diff', data=df_pred, density_norm='count')\n",
    "\n",
    "# Set plot labels and title\n",
    "plt.xlabel('Biological Replicate')\n",
    "plt.ylabel('CCS Error')\n",
    "plt.hlines(y = 0.0, xmin = -0.5, xmax= 2.5, linestyles='--', colors='grey')\n",
    "\n",
    "# Display the plot\n",
    "plt.show()\n",
    "print(df_pred[df_pred['Experiment']=='P064051']['ccs_diff'].mean())\n",
    "print(df_pred[df_pred['Experiment']=='P064064']['ccs_diff'].mean())\n",
    "print(df_pred[df_pred['Experiment']=='P064428']['ccs_diff'].mean())"
   ]
  },
  {
   "cell_type": "code",
   "execution_count": null,
   "metadata": {},
   "outputs": [],
   "source": [
    "print(df_pred[df_pred['Experiment']=='P064051']['IM_diff'].mean())\n",
    "print(df_pred[df_pred['Experiment']=='P064064']['IM_diff'].mean())\n",
    "print(df_pred[df_pred['Experiment']=='P064428']['IM_diff'].mean())"
   ]
  },
  {
   "cell_type": "code",
   "execution_count": null,
   "metadata": {},
   "outputs": [],
   "source": [
    "# violin plot: charge vs CCS error\n",
    "df_comp = df_pred\n",
    "plt.figure(figsize=(10, 6))\n",
    "sns.violinplot(x='Charge', y='ccs_diff', data=df_comp, scale='count')#inner='box',\n",
    "\n",
    "# Set plot labels and title\n",
    "plt.xlabel('Charge')\n",
    "plt.ylabel('CCS Error')\n",
    "plt.hlines(y = 0.0, xmin = -0.1, xmax= 3.1, linestyles='--', colors='grey')\n",
    "plt.tight_layout()\n",
    "\n",
    "# Display the plot\n",
    "plt.show()\n",
    "print('CCS:')\n",
    "print(df_comp[df_comp['Charge']==1]['ccs_diff'].mean())\n",
    "print(df_comp[df_comp['Charge']==1]['ccs_diff'].std())\n",
    "print(df_comp[df_comp['Charge']==2]['ccs_diff'].mean())\n",
    "print(df_comp[df_comp['Charge']==2]['ccs_diff'].std())\n",
    "print(df_comp[df_comp['Charge']==3]['ccs_diff'].mean())\n",
    "print(df_comp[df_comp['Charge']==3]['ccs_diff'].std())\n",
    "print(df_comp[df_comp['Charge']==4]['ccs_diff'].mean())\n",
    "print(df_comp[df_comp['Charge']==4]['ccs_diff'].std())\n",
    "print('IM:')\n",
    "print(df_comp[df_comp['Charge']==1]['IM_diff'].mean())\n",
    "print(df_comp[df_comp['Charge']==1]['IM_diff'].std())\n",
    "print(df_comp[df_comp['Charge']==2]['IM_diff'].mean())\n",
    "print(df_comp[df_comp['Charge']==2]['IM_diff'].std())\n",
    "print(df_comp[df_comp['Charge']==3]['IM_diff'].mean())\n",
    "print(df_comp[df_comp['Charge']==3]['IM_diff'].std())\n",
    "print(df_comp[df_comp['Charge']==4]['IM_diff'].mean())\n",
    "print(df_comp[df_comp['Charge']==4]['IM_diff'].std())"
   ]
  },
  {
   "cell_type": "markdown",
   "metadata": {},
   "source": [
    "# Ex 64"
   ]
  },
  {
   "cell_type": "code",
   "execution_count": null,
   "metadata": {},
   "outputs": [],
   "source": [
    "df = df_64\n",
    "df_train = df.sample(n = round(0.2*len(df)), random_state=42)\n",
    "print(len(df_train))"
   ]
  },
  {
   "cell_type": "code",
   "execution_count": null,
   "metadata": {},
   "outputs": [],
   "source": [
    "# turn training df into alpha base format\n",
    "df_train.loc[:,'Original index'] = df_train.index\n",
    "# run AlphaBase\n",
    "mq_reader = psm_reader_provider.get_reader('maxquant')\n",
    "mq_reader.column_mapping['Original index'] = 'Original index'\n",
    "mq_reader._translate_columns(df_train)\n",
    "mq_reader._transform_table(df_train)\n",
    "mq_reader._translate_decoy(df_train)\n",
    "mq_reader._translate_score(df_train)\n",
    "mq_reader._load_modifications(df_train)\n",
    "mq_reader._translate_modifications()\n",
    "mq_reader._post_process(df_train)  \n",
    "df_train_ab = mq_reader.psm_df"
   ]
  },
  {
   "cell_type": "code",
   "execution_count": null,
   "metadata": {},
   "outputs": [],
   "source": [
    "models = ModelManager(device = 'gpu')\n",
    "models.load_installed_models()\n"
   ]
  },
  {
   "cell_type": "code",
   "execution_count": null,
   "metadata": {},
   "outputs": [],
   "source": [
    "models.train_ccs_model(df_train_ab)"
   ]
  },
  {
   "cell_type": "code",
   "execution_count": null,
   "metadata": {},
   "outputs": [],
   "source": [
    "# turn complete df into alpha base format\n",
    "df = df_64\n",
    "df.loc[:,'Original index'] = df.index\n",
    "# run AlphaBase\n",
    "mq_reader = psm_reader_provider.get_reader('maxquant')\n",
    "mq_reader.column_mapping['Original index'] = 'Original index'\n",
    "mq_reader._translate_columns(df)\n",
    "mq_reader._transform_table(df)\n",
    "mq_reader._translate_decoy(df)\n",
    "mq_reader._translate_score(df)\n",
    "mq_reader._load_modifications(df)\n",
    "mq_reader._translate_modifications()\n",
    "mq_reader._post_process(df)  \n",
    "df_ab = mq_reader.psm_df"
   ]
  },
  {
   "cell_type": "code",
   "execution_count": null,
   "metadata": {},
   "outputs": [],
   "source": [
    "prediction = models.predict_mobility(df_ab)"
   ]
  },
  {
   "cell_type": "code",
   "execution_count": null,
   "metadata": {},
   "outputs": [],
   "source": [
    "# merging alpha base format back to MaxQuant\n",
    "\n",
    "df['ccs_pred'] = prediction['ccs_pred']\n",
    "df['mobility_pred'] = prediction['mobility_pred']\n",
    "mapping_dict = {\n",
    "            'sequence': 'Sequence',\n",
    "            'charge': 'Charge',\n",
    "            'rt': 'Retention time',\n",
    "            'ccs': 'CCS',\n",
    "            'mobility': '1/K0',\n",
    "            'scan_num': 'MS/MS scan number',\n",
    "            'raw_name': 'Raw file',\n",
    "            'precursor_mz': 'm/z',\n",
    "            'score': 'Score',\n",
    "            'proteins': 'Proteins',\n",
    "            'genes': 'Gene names',\n",
    "            'decoy': 'Reverse',\n",
    "            'intensity': 'Intensity',\n",
    "            'nAA':'Length'}\n",
    "merging_list = ['Sequence', 'Charge', 'CCS', 'Score', 'Length', 'Retention time', 'Proteins', 'Gene names','1/K0' , 'MS/MS scan number', 'Raw file'\n",
    "                                                  , 'm/z', 'Intensity' ]\n",
    "        # rename the columns of the alphabase dataframe according to the mapredictionping dict\n",
    "prediction.rename(columns=mapping_dict, inplace=True)\n",
    "        # set the original index as index\n",
    "prediction.set_index('Original index', inplace=True)\n",
    "df_merged = pd.merge(df, prediction, on = merging_list, how = 'inner')\n",
    "#df_merged.to_csv('comparisons/comp__trans_orig.txt', sep = '\\t')\n",
    "\n",
    "df_merged['ccs_diff'] = np.subtract(df_merged['CCS'], df_merged['ccs_pred_y'])\n",
    "df_merged['IM_diff'] = np.subtract(df_merged['1/K0'], df_merged['mobility_pred_y'])\n",
    "\n",
    "sns.violinplot(x='Experiment', y='ccs_diff', data=df_merged, density_norm='count')\n",
    "print(f\"Mean Error: {df_merged['ccs_diff'].mean()}\")\n",
    "# percentile of CCS Difference\n",
    "perc_low = np.percentile(df_merged['ccs_diff'], 2.5)\n",
    "perc_up = np.percentile(df_merged['ccs_diff'], 97.5)\n",
    "print(f\"Percentiles:({perc_low}, {perc_up})\")\n",
    "\n",
    "print(f\"Window:{(perc_low)*(-1)+perc_up}\")\n",
    "window = (perc_low)*(-1)+perc_up\n"
   ]
  },
  {
   "cell_type": "markdown",
   "metadata": {},
   "source": [
    "### Run 51 trained model on all experiments"
   ]
  },
  {
   "cell_type": "code",
   "execution_count": null,
   "metadata": {},
   "outputs": [],
   "source": [
    "df = pd.read_csv('evidence_freshfrozen_base.txt', sep = '\\t')"
   ]
  },
  {
   "cell_type": "code",
   "execution_count": null,
   "metadata": {},
   "outputs": [],
   "source": [
    "# turn complete df into alpha base format\n",
    "df = df_base\n",
    "df.loc[:,'Original index'] = df.index\n",
    "# run AlphaBase\n",
    "mq_reader = psm_reader_provider.get_reader('maxquant')\n",
    "mq_reader.column_mapping['Original index'] = 'Original index'\n",
    "mq_reader._translate_columns(df)\n",
    "mq_reader._transform_table(df)\n",
    "mq_reader._translate_decoy(df)\n",
    "mq_reader._translate_score(df)\n",
    "mq_reader._load_modifications(df)\n",
    "mq_reader._translate_modifications()\n",
    "mq_reader._post_process(df)  \n",
    "df_ab = mq_reader.psm_df"
   ]
  },
  {
   "cell_type": "code",
   "execution_count": null,
   "metadata": {},
   "outputs": [],
   "source": [
    "prediction = models.predict_mobility(df_ab)"
   ]
  },
  {
   "cell_type": "code",
   "execution_count": null,
   "metadata": {},
   "outputs": [],
   "source": [
    "# merging alpha base format back to MaxQuant\n",
    "\n",
    "df['ccs_pred'] = prediction['ccs_pred']\n",
    "df['mobility_pred'] = prediction['mobility_pred']\n",
    "mapping_dict = {\n",
    "            'sequence': 'Sequence',\n",
    "            'charge': 'Charge',\n",
    "            'rt': 'Retention time',\n",
    "            'ccs': 'CCS',\n",
    "            'mobility': '1/K0',\n",
    "            'scan_num': 'MS/MS scan number',\n",
    "            'raw_name': 'Raw file',\n",
    "            'precursor_mz': 'm/z',\n",
    "            'score': 'Score',\n",
    "            'proteins': 'Proteins',\n",
    "            'genes': 'Gene names',\n",
    "            'decoy': 'Reverse',\n",
    "            'intensity': 'Intensity',\n",
    "            'nAA':'Length'}\n",
    "merging_list = ['Sequence', 'Charge', 'CCS', 'Score', 'Length', 'Retention time', 'Proteins', 'Gene names','1/K0' , 'MS/MS scan number', 'Raw file'\n",
    "                                                  , 'm/z', 'Intensity' ]\n",
    "        # rename the columns of the alphabase dataframe according to the mapredictionping dict\n",
    "prediction.rename(columns=mapping_dict, inplace=True)\n",
    "        # set the original index as index\n",
    "prediction.set_index('Original index', inplace=True)\n",
    "df_pred = pd.merge(df, prediction, on = merging_list, how = 'inner')\n",
    "#df_merged.to_csv('comparisons/comp__trans_orig.txt', sep = '\\t')\n",
    "df_pred['ccs_diff'] = np.subtract(df_pred['CCS'], df_pred['ccs_pred_y'])\n",
    "df_pred['IM_diff'] = np.subtract(df_pred['1/K0'], df_pred['mobility_pred_y'])\n"
   ]
  },
  {
   "cell_type": "code",
   "execution_count": null,
   "metadata": {},
   "outputs": [],
   "source": [
    "# violin plot: experiment vs CCS error\n",
    "plt.figure(figsize=(10, 6))\n",
    "sns.violinplot(x='Experiment', y='ccs_diff', data=df_pred, density_norm='count')\n",
    "\n",
    "# Set plot labels and title\n",
    "plt.xlabel('Biological Replicate')\n",
    "plt.ylabel('CCS Error')\n",
    "plt.hlines(y = 0.0, xmin = -0.5, xmax= 2.5, linestyles='--', colors='grey')\n",
    "\n",
    "# Display the plot\n",
    "plt.show()\n",
    "print(df_pred[df_pred['Experiment']=='P064051']['ccs_diff'].mean())\n",
    "print(df_pred[df_pred['Experiment']=='P064064']['ccs_diff'].mean())\n",
    "print(df_pred[df_pred['Experiment']=='P064428']['ccs_diff'].mean())"
   ]
  },
  {
   "cell_type": "code",
   "execution_count": null,
   "metadata": {},
   "outputs": [],
   "source": [
    "print(df_pred[df_pred['Experiment']=='P064051']['IM_diff'].mean())\n",
    "print(df_pred[df_pred['Experiment']=='P064064']['IM_diff'].mean())\n",
    "print(df_pred[df_pred['Experiment']=='P064428']['IM_diff'].mean())"
   ]
  },
  {
   "cell_type": "markdown",
   "metadata": {},
   "source": [
    "## Ex 28"
   ]
  },
  {
   "cell_type": "code",
   "execution_count": null,
   "metadata": {},
   "outputs": [],
   "source": [
    "df = df_28\n",
    "df_train = df.sample(n = round(0.2*len(df)), random_state=42)\n",
    "print(len(df_train))"
   ]
  },
  {
   "cell_type": "code",
   "execution_count": null,
   "metadata": {},
   "outputs": [],
   "source": [
    "# turn training df into alpha base format\n",
    "df_train.loc[:,'Original index'] = df_train.index\n",
    "# run AlphaBase\n",
    "mq_reader = psm_reader_provider.get_reader('maxquant')\n",
    "mq_reader.column_mapping['Original index'] = 'Original index'\n",
    "mq_reader._translate_columns(df_train)\n",
    "mq_reader._transform_table(df_train)\n",
    "mq_reader._translate_decoy(df_train)\n",
    "mq_reader._translate_score(df_train)\n",
    "mq_reader._load_modifications(df_train)\n",
    "mq_reader._translate_modifications()\n",
    "mq_reader._post_process(df_train)  \n",
    "df_train_ab = mq_reader.psm_df"
   ]
  },
  {
   "cell_type": "code",
   "execution_count": null,
   "metadata": {},
   "outputs": [],
   "source": [
    "models = ModelManager(device = 'gpu')\n",
    "models.load_installed_models()"
   ]
  },
  {
   "cell_type": "code",
   "execution_count": null,
   "metadata": {},
   "outputs": [],
   "source": [
    "models.train_ccs_model(df_train_ab)"
   ]
  },
  {
   "cell_type": "code",
   "execution_count": null,
   "metadata": {},
   "outputs": [],
   "source": [
    "# turn complete df into alpha base format\n",
    "df = df_28\n",
    "df.loc[:,'Original index'] = df.index\n",
    "# run AlphaBase\n",
    "mq_reader = psm_reader_provider.get_reader('maxquant')\n",
    "mq_reader.column_mapping['Original index'] = 'Original index'\n",
    "mq_reader._translate_columns(df)\n",
    "mq_reader._transform_table(df)\n",
    "mq_reader._translate_decoy(df)\n",
    "mq_reader._translate_score(df)\n",
    "mq_reader._load_modifications(df)\n",
    "mq_reader._translate_modifications()\n",
    "mq_reader._post_process(df)  \n",
    "df_ab = mq_reader.psm_df"
   ]
  },
  {
   "cell_type": "code",
   "execution_count": null,
   "metadata": {},
   "outputs": [],
   "source": [
    "prediction = models.predict_mobility(df_ab)"
   ]
  },
  {
   "cell_type": "code",
   "execution_count": null,
   "metadata": {},
   "outputs": [],
   "source": [
    "# merging alpha base format back to MaxQuant\n",
    "\n",
    "df['ccs_pred'] = prediction['ccs_pred']\n",
    "df['mobility_pred'] = prediction['mobility_pred']\n",
    "mapping_dict = {\n",
    "            'sequence': 'Sequence',\n",
    "            'charge': 'Charge',\n",
    "            'rt': 'Retention time',\n",
    "            'ccs': 'CCS',\n",
    "            'mobility': '1/K0',\n",
    "            'scan_num': 'MS/MS scan number',\n",
    "            'raw_name': 'Raw file',\n",
    "            'precursor_mz': 'm/z',\n",
    "            'score': 'Score',\n",
    "            'proteins': 'Proteins',\n",
    "            'genes': 'Gene names',\n",
    "            'decoy': 'Reverse',\n",
    "            'intensity': 'Intensity',\n",
    "            'nAA':'Length'}\n",
    "merging_list = ['Sequence', 'Charge', 'CCS', 'Score', 'Length', 'Retention time', 'Proteins', 'Gene names','1/K0' , 'MS/MS scan number', 'Raw file'\n",
    "                                                  , 'm/z', 'Intensity' ]\n",
    "        # rename the columns of the alphabase dataframe according to the mapredictionping dict\n",
    "prediction.rename(columns=mapping_dict, inplace=True)\n",
    "        # set the original index as index\n",
    "#prediction.set_index('Original index', inplace=True)\n",
    "df_merged = pd.merge(df, prediction, on = merging_list, how = 'inner')\n",
    "#df_merged.to_csv('comparisons/comp__trans_orig.txt', sep = '\\t')\n",
    "\n",
    "df_merged['ccs_diff'] = np.subtract(df_merged['CCS'], df_merged['ccs_pred_y'])\n",
    "df_merged['IM_diff'] = np.subtract(df_merged['1/K0'], df_merged['mobility_pred_y'])\n",
    "\n",
    "sns.violinplot(x='Experiment', y='ccs_diff', data=df_merged, density_norm='count')\n",
    "print(f\"Mean Error: {df_merged['ccs_diff'].mean()}\")\n",
    "# percentile of CCS Difference\n",
    "perc_low = np.percentile(df_merged['ccs_diff'], 2.5)\n",
    "perc_up = np.percentile(df_merged['ccs_diff'], 97.5)\n",
    "print(f\"Percentiles:({perc_low}, {perc_up})\")\n",
    "\n",
    "print(f\"Window:{(perc_low)*(-1)+perc_up}\")\n",
    "window = (perc_low)*(-1)+perc_up\n"
   ]
  },
  {
   "cell_type": "markdown",
   "metadata": {},
   "source": [
    "### Run 51 trained model on all experiments"
   ]
  },
  {
   "cell_type": "code",
   "execution_count": null,
   "metadata": {},
   "outputs": [],
   "source": [
    "df = pd.read_csv('evidence_freshfrozen_base.txt', sep = '\\t')"
   ]
  },
  {
   "cell_type": "code",
   "execution_count": null,
   "metadata": {},
   "outputs": [],
   "source": [
    "# turn complete df into alpha base format\n",
    "df = df_base\n",
    "df.loc[:,'Original index'] = df.index\n",
    "# run AlphaBase\n",
    "mq_reader = psm_reader_provider.get_reader('maxquant')\n",
    "mq_reader.column_mapping['Original index'] = 'Original index'\n",
    "mq_reader._translate_columns(df)\n",
    "mq_reader._transform_table(df)\n",
    "mq_reader._translate_decoy(df)\n",
    "mq_reader._translate_score(df)\n",
    "mq_reader._load_modifications(df)\n",
    "mq_reader._translate_modifications()\n",
    "mq_reader._post_process(df)  \n",
    "df_ab = mq_reader.psm_df"
   ]
  },
  {
   "cell_type": "code",
   "execution_count": null,
   "metadata": {},
   "outputs": [],
   "source": [
    "prediction = models.predict_mobility(df_ab)"
   ]
  },
  {
   "cell_type": "code",
   "execution_count": null,
   "metadata": {},
   "outputs": [],
   "source": [
    "# merging alpha base format back to MaxQuant\n",
    "\n",
    "df['ccs_pred'] = prediction['ccs_pred']\n",
    "df['mobility_pred'] = prediction['mobility_pred']\n",
    "mapping_dict = {\n",
    "            'sequence': 'Sequence',\n",
    "            'charge': 'Charge',\n",
    "            'rt': 'Retention time',\n",
    "            'ccs': 'CCS',\n",
    "            'mobility': '1/K0',\n",
    "            'scan_num': 'MS/MS scan number',\n",
    "            'raw_name': 'Raw file',\n",
    "            'precursor_mz': 'm/z',\n",
    "            'score': 'Score',\n",
    "            'proteins': 'Proteins',\n",
    "            'genes': 'Gene names',\n",
    "            'decoy': 'Reverse',\n",
    "            'intensity': 'Intensity',\n",
    "            'nAA':'Length'}\n",
    "merging_list = ['Sequence', 'Charge', 'CCS', 'Score', 'Length', 'Retention time', 'Proteins', 'Gene names','1/K0' , 'MS/MS scan number', 'Raw file'\n",
    "                                                  , 'm/z', 'Intensity' ]\n",
    "        # rename the columns of the alphabase dataframe according to the mapredictionping dict\n",
    "prediction.rename(columns=mapping_dict, inplace=True)\n",
    "        # set the original index as index\n",
    "prediction.set_index('Original index', inplace=True)\n",
    "df_pred = pd.merge(df, prediction, on = merging_list, how = 'inner')\n",
    "#df_merged.to_csv('comparisons/comp__trans_orig.txt', sep = '\\t')\n",
    "df_pred['ccs_diff'] = np.subtract(df_pred['CCS'], df_pred['ccs_pred_y'])\n",
    "df_pred['IM_diff'] = np.subtract(df_pred['1/K0'], df_pred['mobility_pred_y'])\n"
   ]
  },
  {
   "cell_type": "code",
   "execution_count": null,
   "metadata": {},
   "outputs": [],
   "source": [
    "# violin plot: experiment vs CCS error\n",
    "plt.figure(figsize=(10, 6))\n",
    "sns.violinplot(x='Experiment', y='ccs_diff', data=df_pred, density_norm='count')\n",
    "\n",
    "# Set plot labels and title\n",
    "plt.xlabel('Biological Replicate')\n",
    "plt.ylabel('CCS Error')\n",
    "plt.hlines(y = 0.0, xmin = -0.5, xmax= 2.5, linestyles='--', colors='grey')\n",
    "\n",
    "# Display the plot\n",
    "plt.show()\n",
    "print(df_pred[df_pred['Experiment']=='P064051']['ccs_diff'].mean())\n",
    "print(df_pred[df_pred['Experiment']=='P064064']['ccs_diff'].mean())\n",
    "print(df_pred[df_pred['Experiment']=='P064428']['ccs_diff'].mean())"
   ]
  },
  {
   "cell_type": "code",
   "execution_count": null,
   "metadata": {},
   "outputs": [],
   "source": [
    "print(df_pred[df_pred['Experiment']=='P064051']['IM_diff'].mean())\n",
    "print(df_pred[df_pred['Experiment']=='P064064']['IM_diff'].mean())\n",
    "print(df_pred[df_pred['Experiment']=='P064428']['IM_diff'].mean())"
   ]
  },
  {
   "cell_type": "markdown",
   "metadata": {},
   "source": [
    "# Rawfile wise"
   ]
  },
  {
   "cell_type": "code",
   "execution_count": null,
   "metadata": {},
   "outputs": [],
   "source": [
    "def mq_to_ab(df: pd.DataFrame):\n",
    "    # turn training df into alpha base format\n",
    "    df.loc[:,'Original index'] = df.index\n",
    "    # run AlphaBase\n",
    "    mq_reader = psm_reader_provider.get_reader('maxquant')\n",
    "    mq_reader.column_mapping['Original index'] = 'Original index'\n",
    "    mq_reader._translate_columns(df)\n",
    "    mq_reader._transform_table(df)\n",
    "    mq_reader._translate_decoy(df)\n",
    "    mq_reader._translate_score(df)\n",
    "    mq_reader._load_modifications(df)\n",
    "    mq_reader._translate_modifications()\n",
    "    mq_reader._post_process(df)  \n",
    "    df_ab = mq_reader.psm_df\n",
    "    return df_ab"
   ]
  },
  {
   "cell_type": "code",
   "execution_count": null,
   "metadata": {},
   "outputs": [],
   "source": [
    "def ab_to_mq(df: pd.DataFrame, prediction:pd.DataFrame):\n",
    "    # merging alpha base format back to MaxQuant\n",
    "    df['ccs_pred'] = prediction['ccs_pred']\n",
    "    df['mobility_pred'] = prediction['mobility_pred']\n",
    "    mapping_dict = {\n",
    "                'sequence': 'Sequence',\n",
    "                'charge': 'Charge',\n",
    "                'rt': 'Retention time',\n",
    "                'ccs': 'CCS',\n",
    "                'mobility': '1/K0',\n",
    "                'scan_num': 'MS/MS scan number',\n",
    "                'raw_name': 'Raw file',\n",
    "                'precursor_mz': 'm/z',\n",
    "                'score': 'Score',\n",
    "                'proteins': 'Proteins',\n",
    "                'genes': 'Gene names',\n",
    "                'decoy': 'Reverse',\n",
    "                'intensity': 'Intensity',\n",
    "                'nAA':'Length'}\n",
    "    merging_list = ['Sequence', 'Charge', 'CCS', 'Score', 'Length', 'Retention time', 'Proteins', 'Gene names','1/K0' , 'MS/MS scan number', 'Raw file'\n",
    "                                                    , 'm/z', 'Intensity' ]\n",
    "            # rename the columns of the alphabase dataframe according to the mapredictionping dict\n",
    "    prediction.rename(columns=mapping_dict, inplace=True)\n",
    "            # set the original index as index\n",
    "    prediction.set_index('Original index', inplace=True)\n",
    "    df_merged = pd.merge(df, prediction, on = merging_list, how = 'inner')\n",
    "    df_merged['ccs_diff'] = np.subtract(df_merged['CCS'], df_merged['ccs_pred_y'])\n",
    "    df_merged['IM_diff'] = np.subtract(df_merged['1/K0'], df_merged['mobility_pred_y'])\n",
    "    return df_merged"
   ]
  },
  {
   "cell_type": "code",
   "execution_count": null,
   "metadata": {},
   "outputs": [],
   "source": [
    "# for all experiments\n",
    "df = df_base\n",
    "result_dict = {}\n",
    "# experiments\n",
    "for experiment in df['Experiment'].unique():\n",
    "    print(experiment)\n",
    "    df_ex = df[df['Experiment']== experiment]\n",
    "    result_dict[experiment] = {}\n",
    "    # raw file wise\n",
    "    for raw_file in df_ex['Raw file']:\n",
    "        print(raw_file)\n",
    "        df_raw = df_ex[df_ex['Raw file']== raw_file]\n",
    "        df_ab = mq_to_ab(df_raw)\n",
    "        df_train = df_ab.sample(n = round(0.2*len(df_ab)))\n",
    "        models = ModelManager(device = 'gpu')\n",
    "        models.load_installed_models()      \n",
    "        models.train_ccs_model(df_train)\n",
    "        prediction = models.predict_mobility(df_ab)\n",
    "        df_result = ab_to_mq(df_raw, prediction)\n",
    "        mean = df_result['ccs_diff'].mean()\n",
    "        perc_low = np.percentile(df_result['ccs_diff'], 2.5)\n",
    "        perc_up = np.percentile(df_result['ccs_diff'], 97.5)\n",
    "        window = (perc_low)*(-1)+perc_up\n",
    "        result_dict[experiment][raw_file] = [mean, perc_low, perc_up, window]\n",
    "\n",
    "        \n"
   ]
  },
  {
   "cell_type": "markdown",
   "metadata": {},
   "source": [
    "## 51"
   ]
  },
  {
   "cell_type": "code",
   "execution_count": null,
   "metadata": {},
   "outputs": [],
   "source": [
    "\n",
    "df_ex = df_51\n",
    "result_dict_51 = {}\n",
    "# raw file wise\n",
    "for raw_file in df_ex['Raw file'].unique():\n",
    "    print(raw_file)\n",
    "    df_raw = df_ex[df_ex['Raw file']== raw_file]\n",
    "    df_ab = mq_to_ab(df_raw)\n",
    "    df_train = df_ab.sample(n = round(0.3*len(df_ab)))\n",
    "    print(len(df_train))\n",
    "    print(len(df_raw))\n",
    "    models = ModelManager(device = 'gpu')\n",
    "    models.load_installed_models()      \n",
    "    models.train_ccs_model(df_train)\n",
    "    prediction = models.predict_mobility(df_ab)\n",
    "    df_result = ab_to_mq(df_raw, prediction)\n",
    "    mean = df_result['ccs_diff'].mean()\n",
    "    perc_low = np.percentile(df_result['ccs_diff'], 2.5)\n",
    "    perc_up = np.percentile(df_result['ccs_diff'], 97.5)\n",
    "    window = (perc_low)*(-1)+perc_up\n",
    "    result_dict_51[raw_file] = [mean, perc_low, perc_up, window]       \n"
   ]
  },
  {
   "cell_type": "code",
   "execution_count": null,
   "metadata": {},
   "outputs": [],
   "source": [
    "import pickle\n",
    "with open('TL_rawfile_51_30.pkl', 'wb') as f:\n",
    "    pickle.dump(result_dict_51, f)"
   ]
  },
  {
   "cell_type": "code",
   "execution_count": null,
   "metadata": {},
   "outputs": [],
   "source": [
    "with open('TL_rawfile_51.pkl', 'rb') as f:\n",
    "    result_dict_51 = pickle.load(f)"
   ]
  },
  {
   "cell_type": "markdown",
   "metadata": {},
   "source": [
    "## 64"
   ]
  },
  {
   "cell_type": "code",
   "execution_count": null,
   "metadata": {},
   "outputs": [],
   "source": [
    "\n",
    "df_ex = df_64\n",
    "result_dict_64 = {}\n",
    "# raw file wise\n",
    "for raw_file in df_ex['Raw file'].unique():\n",
    "    print(raw_file)\n",
    "    df_raw = df_ex[df_ex['Raw file']== raw_file]\n",
    "    df_ab = mq_to_ab(df_raw)\n",
    "    df_train = df_ab.sample(n = round(0.2*len(df_ab)))\n",
    "    models = ModelManager(device = 'gpu')\n",
    "    models.load_installed_models()      \n",
    "    models.train_ccs_model(df_train)\n",
    "    prediction = models.predict_mobility(df_ab)\n",
    "    df_result = ab_to_mq(df_raw, prediction)\n",
    "    mean = df_result['ccs_diff'].mean()\n",
    "    perc_low = np.percentile(df_result['ccs_diff'], 2.5)\n",
    "    perc_up = np.percentile(df_result['ccs_diff'], 97.5)\n",
    "    window = (perc_low)*(-1)+perc_up\n",
    "    result_dict_64[raw_file] = [mean, perc_low, perc_up, window]       \n"
   ]
  },
  {
   "cell_type": "code",
   "execution_count": null,
   "metadata": {},
   "outputs": [],
   "source": [
    "import pickle\n",
    "with open('TL_rawfile_64.pkl', 'wb') as f:\n",
    "    pickle.dump(result_dict_64, f)"
   ]
  },
  {
   "cell_type": "code",
   "execution_count": null,
   "metadata": {},
   "outputs": [],
   "source": [
    "with open('TL_rawfile_64.pkl', 'rb') as f:\n",
    "    loaded_dict = pickle.load(f)"
   ]
  },
  {
   "cell_type": "markdown",
   "metadata": {},
   "source": [
    "## 28"
   ]
  },
  {
   "cell_type": "code",
   "execution_count": null,
   "metadata": {},
   "outputs": [],
   "source": [
    "\n",
    "df_ex = df_28\n",
    "result_dict_28 = {}\n",
    "# raw file wise\n",
    "for raw_file in df_ex['Raw file'].unique():\n",
    "    print(raw_file)\n",
    "    df_raw = df_ex[df_ex['Raw file']== raw_file]\n",
    "    df_ab = mq_to_ab(df_raw)\n",
    "    df_train = df_ab.sample(n = round(0.2*len(df_ab)))\n",
    "    models = ModelManager(device = 'gpu')\n",
    "    models.load_installed_models()      \n",
    "    models.train_ccs_model(df_train)\n",
    "    prediction = models.predict_mobility(df_ab)\n",
    "    df_result = ab_to_mq(df_raw, prediction)\n",
    "    mean = df_result['ccs_diff'].mean()\n",
    "    perc_low = np.percentile(df_result['ccs_diff'], 2.5)\n",
    "    perc_up = np.percentile(df_result['ccs_diff'], 97.5)\n",
    "    window = (perc_low)*(-1)+perc_up\n",
    "    result_dict_28[raw_file] = [mean, perc_low, perc_up, window]       \n"
   ]
  },
  {
   "cell_type": "code",
   "execution_count": null,
   "metadata": {},
   "outputs": [],
   "source": [
    "import pickle\n",
    "with open('TL_rawfile_28.pkl', 'wb') as f:\n",
    "    pickle.dump(result_dict_28, f)"
   ]
  },
  {
   "cell_type": "code",
   "execution_count": null,
   "metadata": {},
   "outputs": [],
   "source": [
    "with open('TL_rawfile_28.pkl', 'rb') as f:\n",
    "    loaded_dict = pickle.load(f)"
   ]
  },
  {
   "cell_type": "markdown",
   "metadata": {},
   "source": [
    "## Try different training sizes"
   ]
  },
  {
   "cell_type": "code",
   "execution_count": null,
   "metadata": {},
   "outputs": [],
   "source": [
    "print(len(df_51['Raw file'].unique()))\n",
    "print(df_51['Raw file'].unique())"
   ]
  },
  {
   "cell_type": "code",
   "execution_count": null,
   "metadata": {},
   "outputs": [],
   "source": [
    "rawfile_sample = ['5471_P064051_R1_U23_GG9_1_2596', '5471_P064051_R1_U28_GE10_1_2601', '5471_P064051_R1_U33_GA11_1_2606', '5471_P064051_R1_U45_GD12_1_2618', '5471_P064051_R1_U38_GF11_1_2611',\n",
    "                 '5471_P064051_R1_U2_GB7_1_2575', '5471_P064051_R1_U41_GH12_1_2614',  '5471_P064051_R1_U46_GC12_1_2619', '5471_P064051_R1_U1_GA7_1_2574', '5471_P064051_R1_U13_GD8_1_2586']\n",
    "train_size = [0.6,0.7,0.8]"
   ]
  },
  {
   "cell_type": "code",
   "execution_count": null,
   "metadata": {},
   "outputs": [],
   "source": [
    "df_try = df_51[df_51['Raw file'].isin(rawfile_sample)]"
   ]
  },
  {
   "cell_type": "code",
   "execution_count": null,
   "metadata": {},
   "outputs": [],
   "source": [
    "print(df_try.shape)\n",
    "print(len(df_try['Raw file'].unique()))"
   ]
  },
  {
   "cell_type": "code",
   "execution_count": null,
   "metadata": {},
   "outputs": [],
   "source": [
    "\n",
    "df_ex = df_try\n",
    "for size in train_size:\n",
    "    print(size)\n",
    "    result_dict = {}\n",
    "    # raw file wise\n",
    "    for raw_file in df_ex['Raw file'].unique():\n",
    "        df_raw = df_ex[df_ex['Raw file']== raw_file]\n",
    "        df_ab = mq_to_ab(df_raw)\n",
    "        df_train = df_ab.sample(n = round(size*len(df_ab)))\n",
    "        models = ModelManager(device = 'gpu')\n",
    "        models.load_installed_models()      \n",
    "        models.train_ccs_model(df_train)\n",
    "        prediction = models.predict_mobility(df_ab)\n",
    "        df_result = ab_to_mq(df_raw, prediction)\n",
    "        mean = df_result['ccs_diff'].mean()\n",
    "        perc_low = np.percentile(df_result['ccs_diff'], 2.5)\n",
    "        perc_up = np.percentile(df_result['ccs_diff'], 97.5)\n",
    "        window = (perc_low)*(-1)+perc_up\n",
    "        result_dict[raw_file] = [mean, perc_low, perc_up, window]  \n",
    "    with open(f'train_size_test/51_{size*100}.pkl', 'wb') as f:\n",
    "        pickle.dump(result_dict, f)\n",
    "             \n"
   ]
  },
  {
   "cell_type": "code",
   "execution_count": null,
   "metadata": {},
   "outputs": [],
   "source": [
    "import pickle\n",
    "with open('TL_rawfile_51_30.pkl', 'wb') as f:\n",
    "    pickle.dump(result_dict_51, f)"
   ]
  },
  {
   "cell_type": "markdown",
   "metadata": {},
   "source": [
    "## Plots"
   ]
  },
  {
   "cell_type": "code",
   "execution_count": null,
   "metadata": {},
   "outputs": [],
   "source": [
    "import pickle\n",
    "with open('TL_rawfile_51.pkl', 'rb') as f:\n",
    "    result_dict_51 = pickle.load(f)\n"
   ]
  },
  {
   "cell_type": "code",
   "execution_count": null,
   "metadata": {},
   "outputs": [],
   "source": [
    "with open('TL_rawfile_64.pkl', 'rb') as f:\n",
    "    result_dict_64 = pickle.load(f)\n",
    "\n",
    "with open('TL_rawfile_28.pkl', 'rb') as f:\n",
    "    result_dict_28 = pickle.load(f)"
   ]
  },
  {
   "cell_type": "code",
   "execution_count": null,
   "metadata": {},
   "outputs": [],
   "source": [
    "result_dict_51_30 = result_dict_51"
   ]
  },
  {
   "cell_type": "code",
   "execution_count": null,
   "metadata": {},
   "outputs": [],
   "source": [
    "result_51 = pd.DataFrame.from_dict(result_dict_51)\n",
    "result_51 = result_51.T\n",
    "result_51.columns = ['Mean', 'Lower bound', 'Upper bound', 'Window']"
   ]
  },
  {
   "cell_type": "code",
   "execution_count": null,
   "metadata": {},
   "outputs": [],
   "source": [
    "result_51_30 = pd.DataFrame.from_dict(result_dict_51_30)\n",
    "result_51_30 = result_51_30.T\n",
    "result_51_30.columns = ['Mean', 'Lower bound', 'Upper bound', 'Window']"
   ]
  },
  {
   "cell_type": "code",
   "execution_count": null,
   "metadata": {},
   "outputs": [],
   "source": [
    "result_64 = pd.DataFrame.from_dict(result_dict_64)\n",
    "result_64 = result_64.T\n",
    "result_64.columns = ['Mean', 'Lower bound', 'Upper bound', 'Window']"
   ]
  },
  {
   "cell_type": "code",
   "execution_count": null,
   "metadata": {},
   "outputs": [],
   "source": [
    "result_28 = pd.DataFrame.from_dict(result_dict_28)\n",
    "result_28 = result_28.T\n",
    "result_28.columns = ['Mean', 'Lower bound', 'Upper bound', 'Window']"
   ]
  },
  {
   "cell_type": "code",
   "execution_count": null,
   "metadata": {},
   "outputs": [],
   "source": [
    "df = result_51\n",
    "df['error_lower'] = df['Mean'] - df['Lower bound']\n",
    "df['error_upper'] = df['Upper bound'] - df['Mean']\n",
    "\n",
    "# Plot setup\n",
    "plt.figure(figsize=(15, 6))\n",
    "\n",
    "# Plotting the error bars\n",
    "plt.errorbar(x=range(len(df)), y=df['Mean'], \n",
    "             yerr=[df['error_lower'], df['error_upper']], \n",
    "             fmt='o', capsize=5, capthick=2,   elinewidth=2)#ecolor='gray',color='blue',\n",
    "plt.scatter(x= range(len(df)), y=df['Mean'],  label='CCS prediction', zorder=5)\n",
    "# Customize the plot\n",
    "plt.xlabel('Fractions')\n",
    "plt.ylabel('Delta 95 bounds')\n",
    "plt.grid(False)\n",
    "plt.hlines(y = 0.0, xmin = -1.5, xmax= 48.5, linestyles='--', colors='grey')\n",
    "plt.show()"
   ]
  },
  {
   "cell_type": "code",
   "execution_count": null,
   "metadata": {},
   "outputs": [],
   "source": [
    "# 51 wit 30%\n",
    "df = result_51\n",
    "df['error_lower'] = df['Mean'] - df['Lower bound']\n",
    "df['error_upper'] = df['Upper bound'] - df['Mean']\n",
    "\n",
    "# Plot setup\n",
    "plt.figure(figsize=(15, 6))\n",
    "\n",
    "# Plotting the error bars\n",
    "plt.errorbar(x=range(len(df)), y=df['Mean'], \n",
    "             yerr=[df['error_lower'], df['error_upper']], \n",
    "             fmt='o', capsize=5, capthick=2,   elinewidth=2)#ecolor='gray',color='blue',\n",
    "plt.scatter(x= range(len(df)), y=df['Mean'],  label='CCS prediction', zorder=5)\n",
    "# Customize the plot\n",
    "plt.xlabel('Fractions')\n",
    "plt.ylabel('Delta 95 bounds')\n",
    "plt.grid(False)\n",
    "plt.hlines(y = 0.0, xmin = -1.5, xmax= 48.5, linestyles='--', colors='grey')\n",
    "plt.show()"
   ]
  },
  {
   "cell_type": "code",
   "execution_count": null,
   "metadata": {},
   "outputs": [],
   "source": [
    "df = result_64\n",
    "df['error_lower'] = df['Mean'] - df['Lower bound']\n",
    "df['error_upper'] = df['Upper bound'] - df['Mean']\n",
    "\n",
    "# Plot setup\n",
    "plt.figure(figsize=(15, 6))\n",
    "\n",
    "# Plotting the error bars\n",
    "plt.errorbar(x=range(len(df)), y=df['Mean'], \n",
    "             yerr=[df['error_lower'], df['error_upper']], \n",
    "             fmt='o', capsize=5, capthick=2,  elinewidth=2)\n",
    "plt.scatter(x= range(len(df)), y=df['Mean'],  label='CCS prediction', zorder=5)\n",
    "# Customize the plot\n",
    "plt.xlabel('Fractions')\n",
    "plt.ylabel('Delta 95 bounds')\n",
    "plt.grid(False)\n",
    "plt.hlines(y = 0.0, xmin = -1.5, xmax= 48.5, linestyles='--', colors='grey')\n",
    "plt.show()"
   ]
  },
  {
   "cell_type": "code",
   "execution_count": null,
   "metadata": {},
   "outputs": [],
   "source": [
    "df = result_28\n",
    "df['error_lower'] = df['Mean'] - df['Lower bound']\n",
    "df['error_upper'] = df['Upper bound'] - df['Mean']\n",
    "\n",
    "# Plot setup\n",
    "plt.figure(figsize=(15, 6))\n",
    "\n",
    "# Plotting the error bars\n",
    "plt.errorbar(x=range(len(df)), y=df['Mean'], \n",
    "             yerr=[df['error_lower'], df['error_upper']], \n",
    "             fmt='o', capsize=5, capthick=2,   elinewidth=2)\n",
    "plt.scatter(x= range(len(df)), y=df['Mean'], label='CCS prediction', zorder=5)\n",
    "# Customize the plot\n",
    "plt.xlabel('Fractions')\n",
    "plt.ylabel('Delta 95 bounds')\n",
    "plt.grid(False)\n",
    "plt.hlines(y = 0.0, xmin = -1.5, xmax= 48.5, linestyles='--', colors='grey')\n",
    "plt.show()"
   ]
  },
  {
   "cell_type": "code",
   "execution_count": null,
   "metadata": {},
   "outputs": [],
   "source": [
    "result_51['Source'] = 'P064051'\n",
    "result_64['Source'] = 'P064064'\n",
    "result_28['Source'] = 'P064428'\n",
    "df_trans = pd.concat([result_51, result_64, result_28],ignore_index=True)"
   ]
  },
  {
   "cell_type": "code",
   "execution_count": null,
   "metadata": {},
   "outputs": [],
   "source": [
    "result_51['Source'] = '51_20'\n",
    "result_51_30['Source'] = '51_30'\n",
    "df_trans = pd.concat([result_51, result_51_30],ignore_index=True)"
   ]
  },
  {
   "cell_type": "code",
   "execution_count": null,
   "metadata": {},
   "outputs": [],
   "source": [
    "plt.figure(figsize=(10, 6))\n",
    "sns.histplot(x=df_trans['Window'],hue=df_trans['Source'], multiple='dodge', palette='viridis', bins = 48)\n",
    "plt.xlabel('Window size')"
   ]
  },
  {
   "cell_type": "code",
   "execution_count": null,
   "metadata": {},
   "outputs": [],
   "source": [
    "# camparison 20% to 30%\n",
    "plt.figure(figsize=(10, 6))\n",
    "sns.histplot(x=df_trans['Window'],hue=df_trans['Source'], multiple='dodge', palette='viridis', bins = 48)\n",
    "plt.xlabel('Window size')"
   ]
  },
  {
   "cell_type": "markdown",
   "metadata": {},
   "source": [
    "# Charge"
   ]
  },
  {
   "cell_type": "code",
   "execution_count": null,
   "metadata": {},
   "outputs": [],
   "source": [
    "# generate training set\n",
    "# discard Charge 1, because of too few measurements\n",
    "df = df_base\n",
    "n = 50000\n",
    "\n",
    "df_2 = df[df['Charge']==2].sample(n = n, random_state =  42)\n",
    "df_3 = df[df['Charge']==3].sample(n = n, random_state = 42)\n",
    "df_4 = df[df['Charge']==4].sample(n=n, random_state = 42)\n",
    "\n",
    "df_train = pd.concat(objs=[df_2, df_3, df_4])\n",
    "print(len(df_train))"
   ]
  },
  {
   "cell_type": "code",
   "execution_count": null,
   "metadata": {},
   "outputs": [],
   "source": [
    "# turn training df into alpha base format\n",
    "df_train.loc[:,'Original index'] = df_train.index\n",
    "# run AlphaBase\n",
    "mq_reader = psm_reader_provider.get_reader('maxquant')\n",
    "mq_reader.column_mapping['Original index'] = 'Original index'\n",
    "mq_reader._translate_columns(df_train)\n",
    "mq_reader._transform_table(df_train)\n",
    "mq_reader._translate_decoy(df_train)\n",
    "mq_reader._translate_score(df_train)\n",
    "mq_reader._load_modifications(df_train)\n",
    "mq_reader._translate_modifications()\n",
    "mq_reader._post_process(df_train)  \n",
    "df_train_ab = mq_reader.psm_df"
   ]
  },
  {
   "cell_type": "code",
   "execution_count": null,
   "metadata": {},
   "outputs": [],
   "source": [
    "models = ModelManager(device = 'gpu')\n",
    "models.load_installed_models()"
   ]
  },
  {
   "cell_type": "code",
   "execution_count": null,
   "metadata": {},
   "outputs": [],
   "source": [
    "models.train_ccs_model(df_train_ab)"
   ]
  },
  {
   "cell_type": "code",
   "execution_count": null,
   "metadata": {},
   "outputs": [],
   "source": [
    "# turn training df into alpha base format\n",
    "df_mq = df_base\n",
    "df_mq.loc[:,'Original index'] = df_mq.index\n",
    "# run AlphaBase\n",
    "mq_reader = psm_reader_provider.get_reader('maxquant')\n",
    "mq_reader.column_mapping['Original index'] = 'Original index'\n",
    "mq_reader._translate_columns(df_mq)\n",
    "mq_reader._transform_table(df_mq)\n",
    "mq_reader._translate_decoy(df_mq)\n",
    "mq_reader._translate_score(df_mq)\n",
    "mq_reader._load_modifications(df_mq)\n",
    "mq_reader._translate_modifications()\n",
    "mq_reader._post_process(df_mq)  \n",
    "df_ab = mq_reader.psm_df"
   ]
  },
  {
   "cell_type": "code",
   "execution_count": null,
   "metadata": {},
   "outputs": [],
   "source": [
    "# predict whole dataset\n",
    "prediction = models.predict_mobility(df_ab)"
   ]
  },
  {
   "cell_type": "code",
   "execution_count": null,
   "metadata": {},
   "outputs": [],
   "source": [
    "prediction.to_csv('predictions/pred_trans_charge.txt', sep = '\\t')"
   ]
  },
  {
   "cell_type": "code",
   "execution_count": null,
   "metadata": {},
   "outputs": [],
   "source": [
    "# merging alpha base format back to MaxQuant\n",
    "#df_ab = pd.read_csv('comparisons/comp_all_trans.txt', sep = '\\t')\n",
    "df_ab = prediction\n",
    "df_comp = df_base\n",
    "df_comp['ccs_pred'] = df_ab['ccs_pred']\n",
    "df_comp['mobility_pred'] = df_ab['mobility_pred']\n",
    "mapping_dict = {\n",
    "            'sequence': 'Sequence',\n",
    "            'charge': 'Charge',\n",
    "            'rt': 'Retention time',\n",
    "            'ccs': 'CCS',\n",
    "            'mobility': '1/K0',\n",
    "            'scan_num': 'MS/MS scan number',\n",
    "            'raw_name': 'Raw file',\n",
    "            'precursor_mz': 'm/z',\n",
    "            'score': 'Score',\n",
    "            'proteins': 'Proteins',\n",
    "            'genes': 'Gene names',\n",
    "            'decoy': 'Reverse',\n",
    "            'intensity': 'Intensity',\n",
    "            'nAA':'Length'}\n",
    "merging_list = ['Sequence', 'Charge', 'CCS', 'Score', 'Length', 'Retention time', 'Proteins', 'Gene names','1/K0' , 'MS/MS scan number', 'Raw file'\n",
    "                                                  , 'm/z', 'Intensity' ]\n",
    "        # rename the columns of the alphabase dataframe according to the mapping dict\n",
    "df_ab.rename(columns=mapping_dict, inplace=True)\n",
    "        # set the original index as index\n",
    "#df_ab.set_index('Original index', inplace=True)\n",
    "df_merged = pd.merge( df_comp,df_ab, on = merging_list, how = 'inner')\n",
    "#df_merged.to_csv('comparisons/comp_trans_v2_orig.txt', sep = '\\t')"
   ]
  },
  {
   "cell_type": "code",
   "execution_count": null,
   "metadata": {},
   "outputs": [],
   "source": [
    "df_merged.shape"
   ]
  },
  {
   "cell_type": "code",
   "execution_count": null,
   "metadata": {},
   "outputs": [],
   "source": [
    "df_comp = pd.read_csv('comparisons/comp_trans_orig.txt', sep = '\\t')"
   ]
  },
  {
   "cell_type": "code",
   "execution_count": null,
   "metadata": {},
   "outputs": [],
   "source": [
    "df_comp = df_merged"
   ]
  },
  {
   "cell_type": "code",
   "execution_count": null,
   "metadata": {},
   "outputs": [],
   "source": [
    "df_comp['ccs_diff'] = np.subtract(df_comp['CCS'], df_comp['ccs_pred_y'])\n",
    "df_comp['IM_diff'] = np.subtract(df_comp['1/K0'], df_comp['mobility_pred_y'])"
   ]
  },
  {
   "cell_type": "code",
   "execution_count": null,
   "metadata": {},
   "outputs": [],
   "source": [
    "# violin plot: charge vs CCS error\n",
    "plt.figure(figsize=(10, 6))\n",
    "sns.violinplot(x='Charge', y='ccs_diff', data=df_comp, scale='count')#inner='box',\n",
    "\n",
    "# Set plot labels and title\n",
    "plt.xlabel('Charge')\n",
    "plt.ylabel('CCS Error')\n",
    "plt.hlines(y = 0.0, xmin = -0.1, xmax= 3.1, linestyles='--', colors='grey')\n",
    "plt.tight_layout()\n",
    "\n",
    "# Display the plot\n",
    "plt.show()\n",
    "print('CCS:')\n",
    "print(df_comp[df_comp['Charge']==1]['ccs_diff'].mean())\n",
    "print(df_comp[df_comp['Charge']==1]['ccs_diff'].std())\n",
    "print(df_comp[df_comp['Charge']==2]['ccs_diff'].mean())\n",
    "print(df_comp[df_comp['Charge']==2]['ccs_diff'].std())\n",
    "print(df_comp[df_comp['Charge']==3]['ccs_diff'].mean())\n",
    "print(df_comp[df_comp['Charge']==3]['ccs_diff'].std())\n",
    "print(df_comp[df_comp['Charge']==4]['ccs_diff'].mean())\n",
    "print(df_comp[df_comp['Charge']==4]['ccs_diff'].std())\n",
    "print('IM:')\n",
    "print(df_comp[df_comp['Charge']==1]['IM_diff'].mean())\n",
    "print(df_comp[df_comp['Charge']==1]['IM_diff'].std())\n",
    "print(df_comp[df_comp['Charge']==2]['IM_diff'].mean())\n",
    "print(df_comp[df_comp['Charge']==2]['IM_diff'].std())\n",
    "print(df_comp[df_comp['Charge']==3]['IM_diff'].mean())\n",
    "print(df_comp[df_comp['Charge']==3]['IM_diff'].std())\n",
    "print(df_comp[df_comp['Charge']==4]['IM_diff'].mean())\n",
    "print(df_comp[df_comp['Charge']==4]['IM_diff'].std())"
   ]
  },
  {
   "cell_type": "code",
   "execution_count": null,
   "metadata": {},
   "outputs": [],
   "source": [
    "# violin plot: experiment vs CCS error\n",
    "plt.figure(figsize=(10, 6))\n",
    "sns.violinplot(x='Experiment', y='ccs_diff', data=df_comp, density_norm='count')\n",
    "\n",
    "# Set plot labels and title\n",
    "plt.xlabel('Biological Replicate')\n",
    "plt.ylabel('CCS Error')\n",
    "plt.hlines(y = 0.0, xmin = -0.5, xmax= 2.5, linestyles='--', colors='grey')\n",
    "\n",
    "# Display the plot\n",
    "plt.show()\n",
    "print(df_comp[df_comp['Experiment']=='P064051']['ccs_diff'].mean())\n",
    "print(df_comp[df_comp['Experiment']=='P064064']['ccs_diff'].mean())\n",
    "print(df_comp[df_comp['Experiment']=='P064428']['ccs_diff'].mean())"
   ]
  },
  {
   "cell_type": "code",
   "execution_count": null,
   "metadata": {},
   "outputs": [],
   "source": [
    "plt.hist(df_comp['IM_diff'], bins=100)\n",
    "plt.axvline(x = 0.0, c = 'black', linestyle = '--')\n",
    "plt.xlabel('1/K0 Difference')\n",
    "plt.title('Adjusted Error(Transfer Learning)')"
   ]
  },
  {
   "cell_type": "code",
   "execution_count": null,
   "metadata": {},
   "outputs": [],
   "source": [
    "print(df_comp['ccs_diff'].mean())\n",
    "print(df_comp['ccs_diff'].std())"
   ]
  },
  {
   "cell_type": "code",
   "execution_count": null,
   "metadata": {},
   "outputs": [],
   "source": [
    "print(df_pred['ccs_diff'].abs().mean())"
   ]
  },
  {
   "cell_type": "code",
   "execution_count": null,
   "metadata": {},
   "outputs": [],
   "source": [
    "# percentile of CCS Difference\n",
    "perc_low = np.percentile(df_comp['ccs_diff'], 2.5)\n",
    "perc_up = np.percentile(df_comp['ccs_diff'], 97.5)\n",
    "print(f'({perc_low}, {perc_up})')\n"
   ]
  },
  {
   "cell_type": "code",
   "execution_count": null,
   "metadata": {},
   "outputs": [],
   "source": [
    "print((perc_low)*(-1)+perc_up)\n",
    "window = (perc_low)*(-1)+perc_up"
   ]
  },
  {
   "cell_type": "code",
   "execution_count": null,
   "metadata": {},
   "outputs": [],
   "source": [
    "print(df_comp['IM_diff'].mean())\n",
    "print(df_comp['IM_diff'].std())\n"
   ]
  },
  {
   "cell_type": "code",
   "execution_count": null,
   "metadata": {},
   "outputs": [],
   "source": [
    "# percentile of IM Difference\n",
    "perc_low = np.percentile(df_comp['IM_diff'], 2.5)\n",
    "perc_up = np.percentile(df_comp['IM_diff'], 97.5)\n",
    "print(f'({perc_low}, {perc_up})')\n"
   ]
  },
  {
   "cell_type": "code",
   "execution_count": null,
   "metadata": {},
   "outputs": [],
   "source": [
    "print((perc_low)*(-1)+perc_up)\n",
    "window = (perc_low)*(-1)+perc_up"
   ]
  },
  {
   "cell_type": "markdown",
   "metadata": {},
   "source": [
    "# AlphaPeptDeep Training Set"
   ]
  },
  {
   "cell_type": "code",
   "execution_count": null,
   "metadata": {},
   "outputs": [],
   "source": [
    "df_lys = pd.read_csv('orig_trainset/Hela_lys/evidence.txt', sep ='\\t')"
   ]
  },
  {
   "cell_type": "code",
   "execution_count": null,
   "metadata": {},
   "outputs": [],
   "source": [
    "df_tryp = pd.read_csv('orig_trainset/Hela_trypsin/evidence.txt', sep = '\\t')"
   ]
  },
  {
   "cell_type": "code",
   "execution_count": null,
   "metadata": {},
   "outputs": [],
   "source": [
    "print(df_lys.shape)\n",
    "print(df_tryp.shape)"
   ]
  },
  {
   "cell_type": "code",
   "execution_count": null,
   "metadata": {},
   "outputs": [],
   "source": [
    "df_train = pd.concat([df_lys, df_tryp], axis = 0)"
   ]
  },
  {
   "cell_type": "code",
   "execution_count": null,
   "metadata": {},
   "outputs": [],
   "source": [
    "print(df_train.shape)"
   ]
  },
  {
   "cell_type": "code",
   "execution_count": null,
   "metadata": {},
   "outputs": [],
   "source": [
    "print(f\"Charge 1:{len(df_train[df_train['Charge']==1])}\")\n",
    "print(f\"Charge 2:{len(df_train[df_train['Charge']==2])}\")\n",
    "print(f\"Charge 3:{len(df_train[df_train['Charge']==3])}\")\n",
    "print(f\"Charge 4:{len(df_train[df_train['Charge']==4])}\")\n",
    "print(f\"Charge 5:{len(df_train[df_train['Charge']==5])}\")"
   ]
  },
  {
   "cell_type": "code",
   "execution_count": null,
   "metadata": {},
   "outputs": [],
   "source": [
    "print(df_train['Charge'].unique())"
   ]
  },
  {
   "cell_type": "code",
   "execution_count": null,
   "metadata": {},
   "outputs": [],
   "source": [
    "plt.hist(x = df_train['Length'], bins = 60)"
   ]
  },
  {
   "cell_type": "code",
   "execution_count": null,
   "metadata": {},
   "outputs": [],
   "source": [
    "print(df_train['Length'].max())"
   ]
  },
  {
   "cell_type": "code",
   "execution_count": null,
   "metadata": {},
   "outputs": [],
   "source": [
    "# range CCS\n",
    "print(df_train['CCS'].min())\n",
    "print(df_train['CCS'].max())\n",
    "print(df_train['CCS'].max()-df_train['CCS'].min())"
   ]
  },
  {
   "cell_type": "code",
   "execution_count": null,
   "metadata": {},
   "outputs": [],
   "source": [
    "# range 1/K0\n",
    "print(df_train['K0'].min())\n",
    "print(df_train['K0'].max())\n",
    "print(df_train['K0'].max()-df_train['K0'].min())"
   ]
  },
  {
   "cell_type": "code",
   "execution_count": null,
   "metadata": {},
   "outputs": [],
   "source": [
    "print(df_train.columns)"
   ]
  }
 ],
 "metadata": {
  "kernelspec": {
   "display_name": "Python 3",
   "language": "python",
   "name": "python3"
  },
  "language_info": {
   "codemirror_mode": {
    "name": "ipython",
    "version": 3
   },
   "file_extension": ".py",
   "mimetype": "text/x-python",
   "name": "python",
   "nbconvert_exporter": "python",
   "pygments_lexer": "ipython3",
   "version": "3.10.14"
  }
 },
 "nbformat": 4,
 "nbformat_minor": 2
}
