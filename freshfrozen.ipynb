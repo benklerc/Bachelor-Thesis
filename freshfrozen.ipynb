{
 "cells": [
  {
   "cell_type": "markdown",
   "metadata": {},
   "source": [
    "# Imports"
   ]
  },
  {
   "cell_type": "code",
   "execution_count": null,
   "metadata": {},
   "outputs": [],
   "source": [
    "import pandas as pd\n",
    "import matplotlib.pyplot as plt\n",
    "import numpy as np\n",
    "%run methods_freshfrozen.ipynb"
   ]
  },
  {
   "cell_type": "code",
   "execution_count": null,
   "metadata": {},
   "outputs": [],
   "source": [
    "df = pd.read_csv(\"evidence_freshfrozen.txt\",  sep=\"\\t\")"
   ]
  },
  {
   "cell_type": "markdown",
   "metadata": {},
   "source": [
    "# Data Exploration"
   ]
  },
  {
   "cell_type": "code",
   "execution_count": null,
   "metadata": {},
   "outputs": [],
   "source": [
    "# subset dataset\n",
    "df_51 = df[df[\"Experiment\"]=='P064051']\n",
    "df_64 = df[df[\"Experiment\"]=='P064064']\n",
    "df_28 = df[df[\"Experiment\"]=='P064428']"
   ]
  },
  {
   "cell_type": "markdown",
   "metadata": {},
   "source": [
    "## General"
   ]
  },
  {
   "cell_type": "code",
   "execution_count": null,
   "metadata": {},
   "outputs": [],
   "source": [
    "# sequence length vs CCS\n",
    "groups = df.groupby('Charge')\n",
    "for name, group in groups:\n",
    "    plt.scatter(group['Mass'], group['CCS'], label=name, alpha = 0.1)\n",
    "plt.xlabel('Mass')\n",
    "plt.ylabel('CCS')\n",
    "plt.legend(title='Charge')\n",
    "plt.show()"
   ]
  },
  {
   "cell_type": "code",
   "execution_count": null,
   "metadata": {},
   "outputs": [],
   "source": [
    "# mass vs 1/K0\n",
    "groups = df.groupby('Charge')\n",
    "for name, group in groups:\n",
    "    plt.scatter(group['Mass'], group['1/K0'], label=name, alpha = 0.1, cmap = 'viridis')\n",
    "plt.xlabel('Mass')\n",
    "plt.ylabel('1/K0')\n",
    "plt.legend(title='Charge')\n",
    "plt.show()"
   ]
  },
  {
   "cell_type": "code",
   "execution_count": null,
   "metadata": {},
   "outputs": [],
   "source": [
    "groups = df.groupby('Charge')\n",
    "for name, group in groups:\n",
    "    plt.scatter(y = group['1/K0'], x = group['m/z'], label=name, alpha = 0.1)\n",
    "plt.ylabel('1/K0')\n",
    "plt.xlabel('m/z')\n",
    "plt.legend(title='Charge')\n",
    "plt.show()\n"
   ]
  },
  {
   "cell_type": "code",
   "execution_count": null,
   "metadata": {},
   "outputs": [],
   "source": [
    "groups = df.groupby('Charge')\n",
    "for name, group in groups:\n",
    "    plt.scatter(y = group['1/K0'], x = group['CCS'], label=name, alpha = 0.1)\n",
    "plt.ylabel('1/K0')\n",
    "plt.xlabel('CCS')\n",
    "plt.legend(title='Charge')\n",
    "plt.show()"
   ]
  },
  {
   "cell_type": "code",
   "execution_count": null,
   "metadata": {},
   "outputs": [],
   "source": [
    "groups = df.groupby('Charge')\n",
    "for name, group in groups:\n",
    "    plt.scatter(y = group['Retention time'], x = group['Mass'], label=name, alpha = 0.1)\n",
    "plt.ylabel('Retention time')\n",
    "plt.xlabel('Mass')\n",
    "plt.legend(title='Charge')\n",
    "plt.show()"
   ]
  },
  {
   "cell_type": "code",
   "execution_count": null,
   "metadata": {},
   "outputs": [],
   "source": [
    "groups = df.groupby('Charge')\n",
    "for name, group in groups:\n",
    "    plt.scatter(y = group['Retention time'], x = group['1/K0'], label=name, alpha = 0.1)\n",
    "plt.ylabel('Retention time')\n",
    "plt.xlabel('1/K0')\n",
    "plt.legend(title='Charge')\n",
    "plt.show()"
   ]
  },
  {
   "cell_type": "code",
   "execution_count": null,
   "metadata": {},
   "outputs": [],
   "source": [
    "groups = df.groupby('Charge')\n",
    "for name, group in groups:\n",
    "    plt.scatter(y = group['Retention time'], x = group['Charge'], label=name, alpha = 0.1)\n",
    "plt.ylabel('Retention time')\n",
    "plt.xlabel('Charge')\n",
    "plt.legend(title='Charge')\n",
    "plt.show()"
   ]
  },
  {
   "cell_type": "code",
   "execution_count": null,
   "metadata": {},
   "outputs": [],
   "source": [
    "plt.hist(df['Retention time'], bins = 30)\n",
    "plt.title('Retention time')\n",
    "plt.xlabel('Retention time')\n",
    "plt.show()"
   ]
  },
  {
   "cell_type": "code",
   "execution_count": null,
   "metadata": {},
   "outputs": [],
   "source": [
    "#TODO: How many Datatpoint over all Fractions\n",
    "df_51 = df[df[\"Experiment\"]=='P064051']\n",
    "plt.hist(df_51['Fraction'], alpha = 0.5, bins = 48)[2]\n",
    "\n",
    "df_64 = df[df[\"Experiment\"]=='P064064']\n",
    "plt.hist(df_64['Fraction'], alpha = 0.5, bins = 48)[2]\n",
    "\n",
    "df_28 = df[df[\"Experiment\"]=='P064428']\n",
    "plt.hist(df_28['Fraction'], alpha = 0.5, bins = 48)[2]"
   ]
  },
  {
   "cell_type": "code",
   "execution_count": null,
   "metadata": {},
   "outputs": [],
   "source": [
    "im_range = df['1/K0'].max()-df['1/K0'].min()"
   ]
  },
  {
   "cell_type": "markdown",
   "metadata": {},
   "source": [
    "## Isomers"
   ]
  },
  {
   "cell_type": "code",
   "execution_count": null,
   "metadata": {},
   "outputs": [],
   "source": [
    "isomers_df = find_isomers(df, 'm/z', 0.0)"
   ]
  },
  {
   "cell_type": "code",
   "execution_count": null,
   "metadata": {},
   "outputs": [],
   "source": [
    "isomers_df.plot.scatter(x= 'm/z', y = '1/K0', c = 'Charge', figsize = (20,8), cmap = 'viridis', alpha = 0.5)"
   ]
  },
  {
   "cell_type": "markdown",
   "metadata": {},
   "source": [
    "### RT Difference"
   ]
  },
  {
   "cell_type": "code",
   "execution_count": null,
   "metadata": {},
   "outputs": [],
   "source": [
    "# Check RT for all isomers\n",
    "im_diff_df = isomers_df[['Set', 'Retention time', 'Fraction','Experiment']]\n",
    "grouped_diff_df = im_diff_df.groupby('Set')['Retention time'].max()- im_diff_df.groupby('Set')['Retention time'].min()\n",
    "grouped_diff_df = grouped_diff_df.reset_index()\n",
    "plt.hist(x= grouped_diff_df['Retention time'], bins = 100)[2]\n",
    "plt.title('RT Difference per Set')\n",
    "plt.xlabel('RT Difference')"
   ]
  },
  {
   "cell_type": "code",
   "execution_count": null,
   "metadata": {},
   "outputs": [],
   "source": [
    "isomers_rt = isomers_df[(isomers_df['Set'].isin(grouped_diff_df[grouped_diff_df['Retention time']<=1.80]['Set']))]"
   ]
  },
  {
   "cell_type": "markdown",
   "metadata": {},
   "source": [
    "### IM Difference"
   ]
  },
  {
   "cell_type": "code",
   "execution_count": null,
   "metadata": {},
   "outputs": [],
   "source": [
    "isomers_rt_small = isomers_rt[['Sequence','Set','Fraction', 'Experiment','Charge', 'm/z', 'Retention time', '1/K0', 'Score', 'Delta score']]"
   ]
  },
  {
   "cell_type": "code",
   "execution_count": null,
   "metadata": {},
   "outputs": [],
   "source": [
    "isomers_rt.plot.scatter(x = 'Retention time', y= '1/K0', c = 'Charge', figsize = (20,8), colormap = 'gist_rainbow')"
   ]
  },
  {
   "cell_type": "code",
   "execution_count": null,
   "metadata": {},
   "outputs": [],
   "source": [
    "# Check RT for all isomers\n",
    "im_diff_df = isomers_rt[['Set', '1/K0', 'Fraction','Experiment']]\n",
    "grouped_diff_df = im_diff_df.groupby('Set')['1/K0'].max()- im_diff_df.groupby('Set')['1/K0'].min()\n",
    "grouped_diff_df = grouped_diff_df.reset_index()\n",
    "plt.hist(x=( grouped_diff_df['1/K0']/im_range), bins = 100)[2]\n",
    "plt.title('1/K0 Difference per Set')\n",
    "plt.xlabel('Relative 1/K0 Difference')"
   ]
  },
  {
   "cell_type": "code",
   "execution_count": null,
   "metadata": {},
   "outputs": [],
   "source": [
    "small_im_diff = grouped_diff_df[grouped_diff_df['1/K0']<0.06]\n",
    "im_diff_df = isomers_df[isomers_df['Set'].isin(small_im_diff['Set'])][['Sequence','Set', 'Fraction','Experiment', 'Modifications','Charge','m/z','Retention time', '1/K0', 'CCS', 'Score', 'Delta score']]\n",
    "print(len(small_im_diff))"
   ]
  },
  {
   "cell_type": "markdown",
   "metadata": {},
   "source": [
    "#### CCS Variance"
   ]
  },
  {
   "cell_type": "code",
   "execution_count": null,
   "metadata": {},
   "outputs": [],
   "source": [
    "# find sequences which are the same and are in the same fraction and experiment\n",
    "rt_isomers = df.groupby(['Modified sequence', 'Fraction', 'Experiment'])\n",
    "rt_isomers = rt_isomers.filter(lambda x: len(x) > 1)\n",
    "rt_isomers = "
   ]
  },
  {
   "cell_type": "code",
   "execution_count": null,
   "metadata": {},
   "outputs": [],
   "source": [
    "pairs = same_rt_std[same_rt_std['1/K0']==0]['Set']\n",
    "print(same_rt[same_rt['Set'].isin(pairs.tolist())][['Sequence','Fraction','Charge' , 'Modifications','Experiment', 'm/z', '1/K0','CCS', 'PEP','Score' ,'Delta score']])"
   ]
  },
  {
   "cell_type": "markdown",
   "metadata": {},
   "source": [
    "## Modifications"
   ]
  },
  {
   "cell_type": "code",
   "execution_count": null,
   "metadata": {},
   "outputs": [],
   "source": [
    "df_mod = df.drop_duplicates(subset =  ['Sequence', 'Modified sequence', 'Modifications'])\n",
    "df_mod = df_mod[df_mod['Modified sequence'].notna()]\n",
    "df_mod.plot.scatter(x = 'Retention time', y = '1/K0', c = pd.Categorical(df_mod['Modifications']).codes, colormap = 'viridis', alpha = 0.5)\n",
    "df_mod.plot.scatter(x = 'Fraction', y = '1/K0', c = pd.Categorical(df_mod['Modifications']).codes, colormap = 'viridis', alpha = 0.5)\n",
    "df_mod.plot.scatter(x = 'Length', y = '1/K0', c = pd.Categorical(df_mod['Modifications']).codes, colormap = 'viridis', alpha = 0.5)\n",
    "df_mod.plot.scatter(x = 'Mass', y = 'Modifications',colormap = 'viridis', alpha = 0.5)"
   ]
  },
  {
   "cell_type": "code",
   "execution_count": null,
   "metadata": {},
   "outputs": [],
   "source": [
    "\n",
    "\n",
    "df_un = difference_mass_modification2(df, 'Unmodified', '1/K0', 1000)\n",
    "df_ac = difference_mass_modification2(df, 'Acetyl (Protein N-term)', '1/K0',1000)\n",
    "df_ac_ox = difference_mass_modification2(df, 'Acetyl (Protein N-term),Oxidation (M)', '1/K0', 1000)\n",
    "df_ac_2ox = difference_mass_modification2(df, 'Acetyl (Protein N-term),2 Oxidation (M)', '1/K0')\n",
    "df_ac_3ox = difference_mass_modification2(df, 'Acetyl (Protein N-term),3 Oxidation (M)', '1/K0')\n",
    "df_ox = difference_mass_modification2(df, 'Oxidation (M)', '1/K0', 1000)\n",
    "df_ox2 = difference_mass_modification2(df, '2 Oxidation (M)', '1/K0', 1000)\n",
    "df_ox3 = difference_mass_modification2(df, '3 Oxidation (M)', '1/K0')\n",
    "df_ox4 = difference_mass_modification2(df, '4 Oxidation (M)', '1/K0')\n",
    "df_ox5 = difference_mass_modification2(df, '5 Oxidation (M)', '1/K0')"
   ]
  },
  {
   "cell_type": "code",
   "execution_count": null,
   "metadata": {},
   "outputs": [],
   "source": [
    "df_ox = difference_mass_modification2(df, 'Oxidation (M)', 'Mass', 1000)\n",
    "print(df_ox[['Sequence', 'Mass_mod', 'Mass_unmod', 'Difference']])"
   ]
  },
  {
   "cell_type": "code",
   "execution_count": null,
   "metadata": {},
   "outputs": [],
   "source": [
    "df_ac = difference_mass_modification2(df, 'Acetyl (Protein N-term)', '1/K0')\n",
    "plt.hist(x = (df_ac['Difference']/0.5))"
   ]
  },
  {
   "cell_type": "code",
   "execution_count": null,
   "metadata": {},
   "outputs": [],
   "source": [
    "df_ox = difference_mass_modification2(df, 'Oxidation (M)', '1/K0')\n"
   ]
  },
  {
   "cell_type": "code",
   "execution_count": null,
   "metadata": {},
   "outputs": [],
   "source": [
    "\n",
    "plt.hist(x = (df_ox['Difference']/0.5))"
   ]
  },
  {
   "cell_type": "code",
   "execution_count": null,
   "metadata": {},
   "outputs": [],
   "source": [
    "%run methods_freshfrozen.ipynb\n",
    "df_list = [df_un, df_ac, df_ac_ox, df_ac_2ox, df_ac_3ox, df_ox,df_ox2, df_ox3, df_ox4, df_ox5]\n",
    "str_list = ['Unmodified', 'Acetyl (Protein N-term)', 'Acetyl (Protein N-term),Oxidation (M)', 'Acetyl (Protein N-term),2 Oxidation (M)', 'Acetyl (Protein N-term),3 Oxidation (M)', 'Oxidation (M)',\n",
    "            '2 Oxidation (M)', '3 Oxidation (M)', '4 Oxidation (M)', '5 Oxidation (M)']\n",
    "prop_list = ['Mass', 'Retention time', '1/K0']\n",
    "diff = 'Difference'\n",
    "for prop in prop_list:\n",
    "    print(f'Difference in {prop}')\n",
    "    counter = 0\n",
    "    for df_diff in df_list:\n",
    "        df_diff = difference_mass_modification2(df, str_list[counter], prop)\n",
    "        print(f'{str_list[counter]}: {df_diff[diff].mean()}, {df_diff[diff].std()}')\n",
    "        counter +=1\n",
    "    print()\n"
   ]
  },
  {
   "cell_type": "code",
   "execution_count": null,
   "metadata": {},
   "outputs": [],
   "source": [
    "plt.hist(x = df_ac['Difference'])[2]\n",
    "plt.hist(x = df_ac_ox['Difference'])[2]\n",
    "plt.hist(x = df_ac_2ox['Difference'])[2]\n",
    "plt.hist(x = df_ac_3ox['Difference'])[2]\n",
    "plt.hist(x = df_ox['Difference'])[2]\n",
    "plt.hist(x = df_ox2['Difference'])[2]\n",
    "plt.hist(x = df_ox3['Difference'])[2]\n",
    "plt.hist(x = df_ox4['Difference'])[2]\n",
    "plt.hist(x = df_ox5['Difference'])[2]"
   ]
  },
  {
   "cell_type": "code",
   "execution_count": null,
   "metadata": {},
   "outputs": [],
   "source": [
    "for df in df_list:\n",
    "    print(len(df))"
   ]
  },
  {
   "cell_type": "markdown",
   "metadata": {},
   "source": [
    "## Matrix Effect"
   ]
  },
  {
   "cell_type": "markdown",
   "metadata": {},
   "source": [
    "### Peptides in many fractions"
   ]
  },
  {
   "cell_type": "markdown",
   "metadata": {},
   "source": [
    "#### Experiment 51"
   ]
  },
  {
   "cell_type": "code",
   "execution_count": null,
   "metadata": {},
   "outputs": [],
   "source": [
    "# look at proteins\n",
    "# over different fractions\n",
    "df_proteins_51 = df_51.sort_values(by='Proteins', ignore_index=True)\n",
    "df_proteins_51 = df_proteins_51.drop_duplicates(subset=['Sequence', 'Fraction', 'Experiment', 'Proteins'], ignore_index=True)\n",
    "df_proteins_51 = df_proteins_51[['Sequence', 'Fraction', 'Experiment', 'Proteins']]\n",
    "\n",
    "# make new table with unique sequence, in how many fractions and how many experiments\n",
    "df_unique_seq_51 = df_proteins_51[['Sequence', 'Fraction', 'Experiment']]\n",
    "\n",
    "df_unique_seq_51 = df_unique_seq_51.groupby('Sequence').agg({'Experiment': 'nunique', 'Fraction': 'nunique'}).reset_index()\n",
    "\n",
    "# Rename the columns for clarity\n",
    "df_unique_seq_51.columns = ['Sequence', 'num_experiments', 'num_fractions']\n"
   ]
  },
  {
   "cell_type": "code",
   "execution_count": null,
   "metadata": {},
   "outputs": [],
   "source": [
    "\n",
    "df_unique_seq_51.plot.bar(x='Sequence', y='num_fractions', figsize = (20,8))\n",
    "# which proteins appear in how many fractions"
   ]
  },
  {
   "cell_type": "code",
   "execution_count": null,
   "metadata": {},
   "outputs": [],
   "source": [
    "df_top_ten_51= get_peptides_across_many_fractions(df_51, 15)\n",
    "\n",
    "plot_scatter( df_top_ten_51,y='Fraction', x= 'Mass', c='Sequence')\n",
    "plot_scatter(df_top_ten_51, y='Fraction', x= 'Retention time', c='Sequence')\n",
    "plot_scatter(df_top_ten_51, y='Fraction', x= '1/K0', c='Sequence')\n",
    "\n",
    "plot_scatter(df_top_ten_51, y='Fraction', x= 'Calibrated 1/K0', c='Sequence')"
   ]
  },
  {
   "cell_type": "code",
   "execution_count": null,
   "metadata": {},
   "outputs": [],
   "source": [
    "df_top_ten_51= get_peptides_across_many_fractions(df_51, 15)\n",
    "\n",
    "plot_scatter( df_top_ten_51[df_top_ten_51['Sequence'].isin(top_5_seqs)] ,y='Fraction', x= 'Mass', c='Sequence')\n",
    "plot_scatter(df_top_ten_51[df_top_ten_51['Sequence'].isin(top_5_seqs)], y='Fraction', x= 'Retention time', c='Sequence')\n",
    "plot_scatter(df_top_ten_51[df_top_ten_51['Sequence'].isin(top_5_seqs)], y='Fraction', x= '1/K0', c='Sequence')"
   ]
  },
  {
   "cell_type": "code",
   "execution_count": null,
   "metadata": {},
   "outputs": [],
   "source": [
    "pivot_table = df_top_ten_51.pivot_table(index='Sequence', columns='Charge', aggfunc='size', fill_value=0)\n",
    "ax = pivot_table.plot.bar(stacked=True)\n",
    "plt.show()"
   ]
  },
  {
   "cell_type": "markdown",
   "metadata": {},
   "source": [
    "#### Variance in Values"
   ]
  },
  {
   "cell_type": "code",
   "execution_count": null,
   "metadata": {},
   "outputs": [],
   "source": [
    "df_top_ten_51.boxplot(by=['Color','Charge'], column='Mass')\n",
    "df_top_ten_51.boxplot(by=['Color','Charge'], column='Retention time')\n",
    "df_top_ten_51.boxplot(by=['Color','Charge'], column='1/K0')\n",
    "df_top_ten_51.boxplot(by=['Color','Charge'], column='Calibrated 1/K0')\n",
    "df_top_ten_51.boxplot(by=['Color'], column='1/K0')\n",
    "df_top_ten_51.boxplot(by=['Color','Charge'], column='m/z')\n",
    "df_top_ten_51.boxplot(by=['Color','Charge'], column='CCS')"
   ]
  },
  {
   "cell_type": "markdown",
   "metadata": {},
   "source": [
    "##### Investigate Seq 3_3(highest IM Variance)"
   ]
  },
  {
   "cell_type": "code",
   "execution_count": null,
   "metadata": {},
   "outputs": [],
   "source": [
    "df_seq_51_3_3 =df_top_ten_51[(df_top_ten_51['Color'] == 3) &( df_top_ten_51['Charge'] == 3)]\n",
    "plot_scatter(df_seq_51_3_3, y='Fraction', x= 'Retention time', c='Sequence')\n",
    "plot_scatter(df_seq_51_3_3, y='Fraction', x= '1/K0', c='Sequence')"
   ]
  },
  {
   "cell_type": "markdown",
   "metadata": {},
   "source": [
    "#### Experiment 64"
   ]
  },
  {
   "cell_type": "code",
   "execution_count": null,
   "metadata": {},
   "outputs": [],
   "source": [
    "# look at proteins\n",
    "# over different fractions\n",
    "df_proteins_64 = df_64.sort_values(by='Proteins', ignore_index=True)\n",
    "df_proteins_64 = df_proteins_64.drop_duplicates(subset=['Sequence', 'Fraction', 'Experiment', 'Proteins'], ignore_index=True)\n",
    "df_proteins_64 = df_proteins_64[['Sequence', 'Fraction', 'Experiment', 'Proteins']]\n",
    "\n",
    "# make new table with unique sequence, in how many fractions and how many experiments\n",
    "df_unique_seq_64 = df_proteins_64[['Sequence', 'Fraction', 'Experiment']]\n",
    "\n",
    "df_unique_seq_64 = df_unique_seq_64.groupby('Sequence').agg({'Experiment': 'nunique', 'Fraction': 'nunique'}).reset_index()\n",
    "\n",
    "# Rename the columns for clarity\n",
    "df_unique_seq_64.columns = ['Sequence', 'num_experiments', 'num_fractions']\n"
   ]
  },
  {
   "cell_type": "code",
   "execution_count": null,
   "metadata": {},
   "outputs": [],
   "source": [
    "df_unique_seq_64.plot.bar(x='Sequence', y='num_fractions', figsize = (20,8))\n",
    "# which proteins appear in how many fractions"
   ]
  },
  {
   "cell_type": "code",
   "execution_count": null,
   "metadata": {},
   "outputs": [],
   "source": [
    "# explore sequences which appear in many fractions\n",
    "df_top_ten_64 = get_peptides_across_many_fractions(df_64, 15)\n",
    "plot_scatter( df_top_ten_64,y='Fraction', x= 'Mass', c='Sequence')\n",
    "plot_scatter(df_top_ten_64, y='Fraction', x= 'Retention time', c='Sequence')\n",
    "plot_scatter(df_top_ten_64, y='Fraction', x= '1/K0', c='Sequence')"
   ]
  },
  {
   "cell_type": "code",
   "execution_count": null,
   "metadata": {},
   "outputs": [],
   "source": [
    "df_top_ten_64 = get_peptides_across_many_fractions(df_64, 15)\n",
    "plot_scatter( df_top_ten_64[df_top_ten_64['Sequence'].isin(top_5_seqs)],y='Fraction', x= 'Mass', c='Sequence')\n",
    "plot_scatter(df_top_ten_64[df_top_ten_64['Sequence'].isin(top_5_seqs)], y='Fraction', x= 'Retention time', c='Sequence')\n",
    "plot_scatter(df_top_ten_64[df_top_ten_64['Sequence'].isin(top_5_seqs)], y='Fraction', x= '1/K0', c='Sequence')"
   ]
  },
  {
   "cell_type": "code",
   "execution_count": null,
   "metadata": {},
   "outputs": [],
   "source": [
    "pivot_table = df_top_ten_64.pivot_table(index='Color', columns='Charge', aggfunc='size', fill_value=0)\n",
    "ax = pivot_table.plot.bar(stacked=True)\n",
    "plt.show()"
   ]
  },
  {
   "cell_type": "code",
   "execution_count": null,
   "metadata": {},
   "outputs": [],
   "source": [
    "df_top_ten_64.boxplot(by=['Color','Charge'], column='Mass')\n",
    "df_top_ten_64.boxplot(by=['Color','Charge'], column='Retention time')\n",
    "df_top_ten_64.boxplot(by=['Color','Charge'], column='1/K0')\n",
    "df_top_ten_64.boxplot(by=['Color'], column='1/K0')\n",
    "df_top_ten_64.boxplot(by=['Color','Charge'], column='m/z')\n",
    "df_top_ten_64.boxplot(by=['Color','Charge'], column='CCS')"
   ]
  },
  {
   "cell_type": "markdown",
   "metadata": {},
   "source": [
    "##### Investigate Seq 4_3(highest IM Variance)"
   ]
  },
  {
   "cell_type": "code",
   "execution_count": null,
   "metadata": {},
   "outputs": [],
   "source": [
    "df_seq_64_3_3 =df_top_ten_64[(df_top_ten_64['Color'] == 3) &( df_top_ten_64['Charge'] == 3)]\n",
    "plot_scatter(df_seq_64_3_3, y='Fraction', x= 'Retention time', c='Sequence')\n",
    "plot_scatter(df_seq_64_3_3, y='Fraction', x= '1/K0', c='Sequence')"
   ]
  },
  {
   "cell_type": "markdown",
   "metadata": {},
   "source": [
    "#### Experiment 28"
   ]
  },
  {
   "cell_type": "code",
   "execution_count": null,
   "metadata": {},
   "outputs": [],
   "source": [
    "# look at proteins\n",
    "# over different fractions\n",
    "df_proteins_28 = df_28.sort_values(by='Proteins', ignore_index=True)\n",
    "df_proteins_28 = df_proteins_28.drop_duplicates(subset=['Sequence', 'Fraction', 'Experiment', 'Proteins'], ignore_index=True)\n",
    "df_proteins_28 = df_proteins_28[['Sequence', 'Fraction', 'Experiment', 'Proteins']]\n",
    "\n",
    "# make new table with unique sequence, in how many fractions and how many experiments\n",
    "df_unique_seq_28 = df_proteins_28[['Sequence', 'Fraction', 'Experiment']]\n",
    "\n",
    "df_unique_seq_28 = df_unique_seq_28.groupby('Sequence').agg({'Experiment': 'nunique', 'Fraction': 'nunique'}).reset_index()\n",
    "\n",
    "# Rename the columns for clarity\n",
    "df_unique_seq_28.columns = ['Sequence', 'num_experiments', 'num_fractions']\n"
   ]
  },
  {
   "cell_type": "code",
   "execution_count": null,
   "metadata": {},
   "outputs": [],
   "source": [
    "df_unique_seq_28.plot.bar(x='Sequence', y='num_fractions', figsize = (20,8))\n",
    "# which proteins appear in how many fractions"
   ]
  },
  {
   "cell_type": "code",
   "execution_count": null,
   "metadata": {},
   "outputs": [],
   "source": [
    "df_top_ten_28 = get_peptides_across_many_fractions(df_28, 15)\n",
    "\n",
    "plot_scatter( df_top_ten_28,y='Fraction', x= 'Mass', c='Sequence')\n",
    "plot_scatter(df_top_ten_28, y='Fraction', x= 'Retention time', c='Sequence')\n",
    "plot_scatter(df_top_ten_28, y='Fraction', x= '1/K0', c='Sequence')"
   ]
  },
  {
   "cell_type": "code",
   "execution_count": null,
   "metadata": {},
   "outputs": [],
   "source": [
    "df_top_ten_28 = get_peptides_across_many_fractions(df_28, 15)\n",
    "plot_scatter( df_top_ten_28[df_top_ten_28['Sequence'].isin(top_5_seqs)],y='Fraction', x= 'Mass', c='Sequence')\n",
    "plot_scatter(df_top_ten_28[df_top_ten_28['Sequence'].isin(top_5_seqs)], y='Fraction', x= 'Retention time', c='Sequence')\n",
    "plot_scatter(df_top_ten_28[df_top_ten_28['Sequence'].isin(top_5_seqs)], y='Fraction', x= '1/K0', c='Sequence')"
   ]
  },
  {
   "cell_type": "code",
   "execution_count": null,
   "metadata": {},
   "outputs": [],
   "source": [
    "pivot_table = df_top_ten_28.pivot_table(index='Sequence', columns='Charge', aggfunc='size', fill_value=0)\n",
    "ax = pivot_table.plot.bar(stacked=True)\n",
    "plt.show()"
   ]
  },
  {
   "cell_type": "code",
   "execution_count": null,
   "metadata": {},
   "outputs": [],
   "source": [
    "df_top_ten_28.boxplot(by=['Color','Charge'], column='Mass')\n",
    "df_top_ten_28.boxplot(by=['Color','Charge'], column='Retention time')\n",
    "df_top_ten_28.boxplot(by=['Color','Charge'], column='1/K0')\n",
    "df_top_ten_28.boxplot(by=['Color'], column='1/K0')\n",
    "df_top_ten_28.boxplot(by=['Color','Charge'], column='m/z')\n",
    "df_top_ten_28.boxplot(by=['Color','Charge'], column='CCS')"
   ]
  },
  {
   "cell_type": "markdown",
   "metadata": {},
   "source": [
    "##### Investigate Seq 3_3(highest IM Variance)"
   ]
  },
  {
   "cell_type": "code",
   "execution_count": null,
   "metadata": {},
   "outputs": [],
   "source": [
    "df_seq_28_3_3 =df_top_ten_28[(df_top_ten_28['Color'] == 3) &( df_top_ten_28['Charge'] == 3)]\n",
    "plot_scatter(df_seq_28_3_3, y='Fraction', x= 'Retention time', c='Sequence')\n",
    "plot_scatter(df_seq_28_3_3, y='Fraction', x= '1/K0', c='Sequence')"
   ]
  },
  {
   "cell_type": "code",
   "execution_count": null,
   "metadata": {},
   "outputs": [],
   "source": [
    "seqs_51 = df_top_ten_51['Sequence'].unique().tolist()\n",
    "seqs_64 = df_top_ten_64['Sequence'].unique().tolist()\n",
    "seqs_28 = df_top_ten_28['Sequence'].unique().tolist()\n",
    "seqs = [seqs_51, seqs_64, seqs_28]\n",
    "\n",
    "print(seqs_51)\n",
    "print(seqs_64)\n",
    "print(seqs_28)\n",
    "\n",
    "print(len(seqs_51))\n",
    "print(len(seqs_64))\n",
    "print(len(seqs_28))\n",
    "\n",
    "seqs = seqs_51 + seqs_64 + seqs_28\n",
    "value_counts = {}\n",
    "for seq in seqs:\n",
    "    if seq in value_counts:\n",
    "        value_counts[seq] += 1\n",
    "    else:\n",
    "        value_counts[seq] = 1\n",
    "value_counts = sorted(value_counts.items(), key=lambda x:x[1], reverse=True)\n",
    "\n",
    "# Print the counts for each value\n",
    "for value, count in value_counts:\n",
    "    print(f\"{value}: {count} times\")\n",
    "\n",
    "top_5_seqs = ['AAAIGIDLGTTYSCVGVFQHGK', 'AADFQLHTHVNDGTEFGGSIYQK', 'AAEAAAAPAESAAPAAGEEPSKEEGEPK', 'AAHVFFTDSCPDALFNELVK', 'AALDGTPGMIGYGMAK']\n"
   ]
  },
  {
   "cell_type": "markdown",
   "metadata": {},
   "source": [
    "## MaxQuant Search"
   ]
  },
  {
   "cell_type": "markdown",
   "metadata": {},
   "source": [
    "### PEP"
   ]
  },
  {
   "cell_type": "code",
   "execution_count": null,
   "metadata": {},
   "outputs": [],
   "source": [
    "print(df['PEP'].min())\n",
    "print(df['PEP'].max())\n",
    "plt.hist(df['PEP'], bins = 40, range= (0,0.15))"
   ]
  },
  {
   "cell_type": "code",
   "execution_count": null,
   "metadata": {},
   "outputs": [],
   "source": [
    "plt.hist(df['PEP'], bins = 40, range= (0.01,0.15))"
   ]
  },
  {
   "cell_type": "markdown",
   "metadata": {},
   "source": [
    "#### Score"
   ]
  },
  {
   "cell_type": "code",
   "execution_count": null,
   "metadata": {},
   "outputs": [],
   "source": [
    "print(df['Score'].min())\n",
    "print(df['Score'].max())\n",
    "plt.hist(df['Score'], bins = 40,)"
   ]
  },
  {
   "cell_type": "markdown",
   "metadata": {},
   "source": [
    "### Delta Score"
   ]
  },
  {
   "cell_type": "code",
   "execution_count": null,
   "metadata": {},
   "outputs": [],
   "source": [
    "print(df['Delta score'].min())\n",
    "print(df['Delta score'].max())\n",
    "plt.hist(df['Delta score'], bins = 40)"
   ]
  }
 ],
 "metadata": {
  "kernelspec": {
   "display_name": "Python 3",
   "language": "python",
   "name": "python3"
  },
  "language_info": {
   "codemirror_mode": {
    "name": "ipython",
    "version": 3
   },
   "file_extension": ".py",
   "mimetype": "text/x-python",
   "name": "python",
   "nbconvert_exporter": "python",
   "pygments_lexer": "ipython3",
   "version": "3.10.13"
  }
 },
 "nbformat": 4,
 "nbformat_minor": 2
}
