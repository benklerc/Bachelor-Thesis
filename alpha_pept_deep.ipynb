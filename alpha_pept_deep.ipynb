{
 "cells": [
  {
   "cell_type": "markdown",
   "metadata": {},
   "source": [
    "# Imports"
   ]
  },
  {
   "cell_type": "code",
   "execution_count": null,
   "metadata": {},
   "outputs": [],
   "source": [
    "%reload_ext autoreload\n",
    "%autoreload 2\n",
    "\n",
    "from peptdeep.pretrained_models import ModelManager\n",
    "from peptdeep import settings\n",
    "from alphabase.psm_reader import psm_reader_provider\n",
    "\n",
    "import pandas as pd\n",
    "import matplotlib.pyplot as plt\n",
    "import seaborn as sns\n",
    "import sklearn.metrics as sk\n",
    "\n",
    "%run alpha_pept_deep_methods.ipynb"
   ]
  },
  {
   "cell_type": "markdown",
   "metadata": {},
   "source": [
    "# Input"
   ]
  },
  {
   "cell_type": "code",
   "execution_count": null,
   "metadata": {},
   "outputs": [],
   "source": [
    "# Read Data\n",
    "df = pd.read_csv(\"evidence_freshfrozen.txt\",  sep=\"\\t\")\n",
    "\n",
    "# Gain as many useable data as possible\n",
    "%run alpha_pept_deep_methods.ipynb\n",
    "df  = fill_modified_sequence(df)\n",
    "df['MS/MS scan number'] = df['MS/MS scan number'].fillna(-1)\n",
    "df = df.dropna(subset = ['Modified sequence'])"
   ]
  },
  {
   "cell_type": "markdown",
   "metadata": {},
   "source": [
    "# Load Model"
   ]
  },
  {
   "cell_type": "code",
   "execution_count": 36,
   "metadata": {},
   "outputs": [],
   "source": [
    "# load model\n",
    "models = ModelManager(device = 'gpu')\n",
    "models.load_installed_models()"
   ]
  },
  {
   "cell_type": "code",
   "execution_count": null,
   "metadata": {},
   "outputs": [],
   "source": [
    "# receive settings of the model\n",
    "settings = settings.global_settings\n",
    "for key, value in settings.items():\n",
    "    print(key)\n",
    "    print(f\"\\t{value}\")"
   ]
  },
  {
   "cell_type": "markdown",
   "metadata": {},
   "source": [
    "# Prediction"
   ]
  },
  {
   "cell_type": "code",
   "execution_count": null,
   "metadata": {},
   "outputs": [],
   "source": [
    "# predict\n",
    "%run alpha_pept_deep_methods.ipynb\n",
    "df_ab = mq_to_ab(df)\n",
    "prediction = models.predict_mobility(df_ab)"
   ]
  },
  {
   "cell_type": "code",
   "execution_count": 39,
   "metadata": {},
   "outputs": [],
   "source": [
    "# merge prediction into original df for comparison of prediction to experimental values\n",
    "%run alpha_pept_deep_methods.ipynb\n",
    "df_comp = ab_to_mq(df, prediction)"
   ]
  },
  {
   "cell_type": "code",
   "execution_count": 63,
   "metadata": {},
   "outputs": [],
   "source": [
    "df_comp.to_csv('prediction.txt', sep = '\\t')"
   ]
  },
  {
   "cell_type": "markdown",
   "metadata": {},
   "source": [
    "# Evaluation of Model Performance"
   ]
  },
  {
   "cell_type": "markdown",
   "metadata": {},
   "source": [
    "### R2"
   ]
  },
  {
   "cell_type": "code",
   "execution_count": null,
   "metadata": {},
   "outputs": [],
   "source": [
    "# R2 for CCS\n",
    "print(sk.r2_score(y_true = df_comp['CCS'], y_pred = df_comp['ccs_pred']))"
   ]
  },
  {
   "cell_type": "code",
   "execution_count": null,
   "metadata": {},
   "outputs": [],
   "source": [
    "# R2 for 1/K0\n",
    "print(sk.r2_score(y_true = df_comp['1/K0'], y_pred = df_comp['mobility_pred']))"
   ]
  },
  {
   "cell_type": "markdown",
   "metadata": {},
   "source": [
    "### Error"
   ]
  },
  {
   "cell_type": "code",
   "execution_count": null,
   "metadata": {},
   "outputs": [],
   "source": [
    "# Mean and Standard Deviation of Error\n",
    "# Table 4.3\n",
    "print(f\"CCS error:{df_comp['ccs_error'].mean()}\")\n",
    "print(f\"CCS standard deviation:{df_comp['ccs_error'].std()}\")\n",
    "print(f\"IM error:{df_comp['IM_error'].mean()}\")\n",
    "print(f\"IM standard deviation:{df_comp['IM_error'].std()}\")"
   ]
  },
  {
   "cell_type": "code",
   "execution_count": null,
   "metadata": {},
   "outputs": [],
   "source": [
    "# absolute Mean and Standard Deviation of Error\n",
    "print(f\"CCS error:{df_comp['ccs_error'].abs().mean()}\")\n",
    "print(f\"CCS standard deviation:{df_comp['ccs_error'].std()}\")\n",
    "print(f\"IM error:{df_comp['IM_error'].abs().mean()}\")\n",
    "print(f\"IM standard deviation:{df_comp['IM_error'].std()}\")"
   ]
  },
  {
   "cell_type": "code",
   "execution_count": null,
   "metadata": {},
   "outputs": [],
   "source": [
    "# Histogram: CCS error\n",
    "# Figure 4.3\n",
    "plt.hist(df_comp['ccs_error'], range=(-100, 100), bins = 50)\n",
    "plt.xlabel('CCS Difference')"
   ]
  },
  {
   "cell_type": "markdown",
   "metadata": {},
   "source": [
    "### Percentiles"
   ]
  },
  {
   "cell_type": "code",
   "execution_count": null,
   "metadata": {},
   "outputs": [],
   "source": [
    "# percentile of CCS Error\n",
    "# Table 4.4\n",
    "%run alpha_pept_deep_methods.ipynb\n",
    "delta95 = percentiles(df_comp, 'ccs_error')\n",
    "print(f\"2.5 Percentile: {delta95[0]}, 97.5 Percentile: {delta95[1]}, Delta95: {delta95[2]}\")"
   ]
  },
  {
   "cell_type": "code",
   "execution_count": null,
   "metadata": {},
   "outputs": [],
   "source": [
    "# percentile of IM Error\n",
    "# Table 4.4\n",
    "%run alpha_pept_deep_methods.ipynb\n",
    "delta95 = percentiles(df_comp, 'IM_error')\n",
    "print(f\"2.5 Percentile: {delta95[0]}, 97.5 Percentile: {delta95[1]}, Delta95: {delta95[2]}\")"
   ]
  },
  {
   "cell_type": "markdown",
   "metadata": {},
   "source": [
    "# Evaluation of Influences on the Model"
   ]
  },
  {
   "cell_type": "markdown",
   "metadata": {},
   "source": [
    "## Biological Replicates"
   ]
  },
  {
   "cell_type": "code",
   "execution_count": null,
   "metadata": {},
   "outputs": [],
   "source": [
    "# Violin Plot: CCS error per Experiment\n",
    "# Figure 4.4\n",
    "plt.figure(figsize=(10, 6))\n",
    "sns.violinplot(x='Experiment', y='ccs_error', data=df_comp, density_norm='count')\n",
    "plt.xlabel('Biological Replicate')\n",
    "plt.ylabel('CCS Error')\n",
    "plt.hlines(y = 0.0, xmin = -0.5, xmax= 2.5, linestyles='--', colors='grey')\n",
    "plt.show()"
   ]
  },
  {
   "cell_type": "code",
   "execution_count": null,
   "metadata": {},
   "outputs": [],
   "source": [
    "# Error per Biological Replicate\n",
    "# Table 4.15 a\n",
    "df_51 = df_comp[df_comp[\"Experiment\"]=='P064051']\n",
    "print(len(df_51))\n",
    "print(df_51['ccs_error'].mean())\n",
    "print(df_51['ccs_error'].std())\n",
    "df_64 = df_comp[df_comp[\"Experiment\"]=='P064064']\n",
    "print(len(df_64))\n",
    "print(df_64['ccs_error'].mean())\n",
    "print(df_64['ccs_error'].std())\n",
    "df_28 = df_comp[df_comp[\"Experiment\"]=='P064428']\n",
    "print(len(df_28))\n",
    "print(df_28['ccs_error'].mean())\n",
    "print(df_28['ccs_error'].std())"
   ]
  },
  {
   "cell_type": "code",
   "execution_count": null,
   "metadata": {},
   "outputs": [],
   "source": [
    "# Error per Biological Replicate\n",
    "# Table 4.15 b\n",
    "df_51 = df_comp[df_comp[\"Experiment\"]=='P064051']\n",
    "print(len(df_51))\n",
    "print(df_51['IM_error'].mean())\n",
    "print(df_51['IM_error'].std())\n",
    "df_64 = df_comp[df_comp[\"Experiment\"]=='P064064']\n",
    "print(len(df_64))\n",
    "print(df_64['IM_error'].mean())\n",
    "print(df_64['IM_error'].std())\n",
    "df_28 = df_comp[df_comp[\"Experiment\"]=='P064428']\n",
    "print(len(df_28))\n",
    "print(df_28['IM_error'].mean())\n",
    "print(df_28['IM_error'].std())"
   ]
  },
  {
   "cell_type": "code",
   "execution_count": null,
   "metadata": {},
   "outputs": [],
   "source": [
    "# Delta 95 per Biological Replicate\n",
    "# Table 4.16 a\n",
    "%run alpha_pept_deep_methods.ipynb\n",
    "perc_51 = percentiles(df_comp[df_comp['Experiment']== 'P064051'], 'ccs_error')\n",
    "print(f\"P064051; 2.5 Percentile: {delta95[0]}, 97.5 Percentile: {delta95[1]}, Delta95: {delta95[2]}\")\n",
    "perc_64 = percentiles(df_comp[df_comp['Experiment']== 'P064064'], 'ccs_error')\n",
    "print(f\"P064064; 2.5 Percentile: {delta95[0]}, 97.5 Percentile: {delta95[1]}, Delta95: {delta95[2]}\")\n",
    "perc_28 = percentiles(df_comp[df_comp['Experiment']== 'P064428'], 'ccs_error')\n",
    "print(f\"P064428; 2.5 Percentile: {delta95[0]}, 97.5 Percentile: {delta95[1]}, Delta95: {delta95[2]}\")\n"
   ]
  },
  {
   "cell_type": "code",
   "execution_count": null,
   "metadata": {},
   "outputs": [],
   "source": [
    "# Delta 95 per Biological Replicate\n",
    "# Table 4.16 b\n",
    "%run alpha_pept_deep_methods.ipynb\n",
    "perc_51 = percentiles(df_comp[df_comp['Experiment']== 'P064051'], 'IM_error')\n",
    "print(f\"P064051; 2.5 Percentile: {delta95[0]}, 97.5 Percentile: {delta95[1]}, Delta95: {delta95[2]}\")\n",
    "perc_64 = percentiles(df_comp[df_comp['Experiment']== 'P064064'], 'IM_error')\n",
    "print(f\"P064064; 2.5 Percentile: {delta95[0]}, 97.5 Percentile: {delta95[1]}, Delta95: {delta95[2]}\")\n",
    "perc_28 = percentiles(df_comp[df_comp['Experiment']== 'P064428'], 'IM_error')\n",
    "print(f\"P064428; 2.5 Percentile: {delta95[0]}, 97.5 Percentile: {delta95[1]}, Delta95: {delta95[2]}\")\n"
   ]
  },
  {
   "cell_type": "markdown",
   "metadata": {},
   "source": [
    "## Raw File"
   ]
  },
  {
   "cell_type": "code",
   "execution_count": 52,
   "metadata": {},
   "outputs": [],
   "source": [
    "# split df into the 3 Experiments\n",
    "df = df_comp\n",
    "df_51 = df[df[\"Experiment\"]=='P064051']\n",
    "df_64 = df[df[\"Experiment\"]=='P064064']\n",
    "df_28 = df[df[\"Experiment\"]=='P064428']"
   ]
  },
  {
   "cell_type": "code",
   "execution_count": null,
   "metadata": {},
   "outputs": [],
   "source": [
    "# Violin Plots per Experiment across Raw Files for CCS Error\n",
    "list_df = [df_51, df_64, df_28]\n",
    "list_exp = ['P064051', 'P064064', 'P064428']\n",
    "for df in list_df:\n",
    "    plt.figure(figsize=(18, 6))\n",
    "    sns.violinplot(x='Raw file', y='ccs_error', data=df, density_norm='count')\n",
    "    plt.xlabel('Raw file')\n",
    "    plt.ylabel('CCS Error')\n",
    "    plt.xticks(rotation = 90)\n",
    "    plt.hlines(y = 0.0, xmin = -0.5, xmax= 48.5, linestyles='--', colors='grey')"
   ]
  },
  {
   "cell_type": "markdown",
   "metadata": {},
   "source": [
    "## Confidence of Identification"
   ]
  },
  {
   "cell_type": "code",
   "execution_count": null,
   "metadata": {},
   "outputs": [],
   "source": [
    "# Scatter Plot with kde: Andromeda Score vs ccs_Diff\n",
    "# Figure 4.6\n",
    "g = sns.jointplot(data=df_comp, x='Score', y='ccs_error', hue='Charge', kind=\"scatter\", palette='viridis', alpha = 0.5)\n",
    "g.plot_marginals(sns.kdeplot, common_norm=True)\n",
    "plt.xlabel('Andromeda Score')\n",
    "plt.ylabel('CCS Error')\n",
    "plt.show()"
   ]
  },
  {
   "cell_type": "markdown",
   "metadata": {},
   "source": [
    "## PTMs"
   ]
  },
  {
   "cell_type": "code",
   "execution_count": null,
   "metadata": {},
   "outputs": [],
   "source": [
    "# Error per Modification\n",
    "# Table 4.5\n",
    "for mod in df_comp['Modifications'].unique():\n",
    "    df_mod = df_comp[df_comp['Modifications']==mod]\n",
    "    print(f\"{mod}: {len(df_mod)}\")\n",
    "    print(f\"{df_mod['ccs_error'].mean()}, {df_mod['ccs_error'].std()};  {df_mod['IM_error'].mean()}, {df_mod['IM_error'].std()}\")"
   ]
  },
  {
   "cell_type": "markdown",
   "metadata": {},
   "source": [
    "## Charge"
   ]
  },
  {
   "cell_type": "code",
   "execution_count": null,
   "metadata": {},
   "outputs": [],
   "source": [
    "# Violin Plot: CCS Error per Charge\n",
    "# Figure 4.7\n",
    "plt.figure(figsize=(10, 6))\n",
    "sns.violinplot(x='Charge', y='ccs_error', data=df_comp, scale='count')\n",
    "plt.ylabel('CCS Error')\n",
    "plt.hlines(y = 0.0, xmin = -0.1, xmax= 3.1, linestyles='--', colors='grey')\n",
    "plt.tight_layout()\n",
    "plt.show()\n"
   ]
  },
  {
   "cell_type": "markdown",
   "metadata": {},
   "source": [
    "## Retention Time"
   ]
  },
  {
   "cell_type": "code",
   "execution_count": null,
   "metadata": {},
   "outputs": [],
   "source": [
    "# Scatter Plot with kde: Retention Time vs CCS Error\n",
    "# Figure 4.8 a\n",
    "g = sns.jointplot(data=df_comp, x='Retention time', y='ccs_error', hue='Charge', kind=\"scatter\", palette='viridis', alpha = 0.5)\n",
    "g.plot_marginals(sns.kdeplot, common_norm=True)\n",
    "plt.xlabel('Retention time')\n",
    "plt.ylabel('CCS Error')\n",
    "plt.show()"
   ]
  },
  {
   "cell_type": "code",
   "execution_count": null,
   "metadata": {},
   "outputs": [],
   "source": [
    "# Scatter Plot with kde: rtRetention Length vs CCS Error\n",
    "# Figure 4.8 b\n",
    "g = sns.jointplot(data=df_comp, x='Retention length', y='ccs_error', hue='Charge', kind=\"scatter\", palette='viridis', alpha = 0.5)\n",
    "g.plot_marginals(sns.kdeplot, common_norm=True)\n",
    "plt.xlabel('Retention length')\n",
    "plt.ylabel('CCS Error')\n",
    "plt.show()"
   ]
  },
  {
   "cell_type": "markdown",
   "metadata": {},
   "source": [
    "## Ion Mobility"
   ]
  },
  {
   "cell_type": "code",
   "execution_count": null,
   "metadata": {},
   "outputs": [],
   "source": [
    "# Scatter Plot with kde: CCS vs CCS Error\n",
    "# Figure 4.9 a\n",
    "g = sns.jointplot(data=df_comp, x='CCS', y='ccs_error', hue='Charge', kind=\"scatter\", palette='viridis', alpha = 0.5)\n",
    "g.plot_marginals(sns.kdeplot, common_norm=True)\n",
    "plt.xlabel('Experimental CCS')\n",
    "plt.ylabel('CCS Error')\n",
    "plt.show()"
   ]
  },
  {
   "cell_type": "code",
   "execution_count": null,
   "metadata": {},
   "outputs": [],
   "source": [
    "# Scatter Plot with kde: 1/K0 vs CCS Error\n",
    "# Figure 4.9 b\n",
    "g = sns.jointplot(data=df_comp, x='1/K0', y='ccs_error', hue='Charge', kind=\"scatter\", palette='viridis', alpha = 0.5)\n",
    "g.plot_marginals(sns.kdeplot, common_norm=True)\n",
    "plt.xlabel('1/K0')\n",
    "plt.ylabel('CCS Error')\n",
    "plt.show()"
   ]
  },
  {
   "cell_type": "markdown",
   "metadata": {},
   "source": [
    "## Peptide Length"
   ]
  },
  {
   "cell_type": "code",
   "execution_count": null,
   "metadata": {},
   "outputs": [],
   "source": [
    "# Violin Plot: Length vs CCS Error\n",
    "# Figure 4.10\n",
    "plt.figure(figsize=(18, 4))\n",
    "sns.violinplot(x='Length', y='ccs_error', data=df_comp, scale='count', width=0.9)\n",
    "plt.xlabel('Length')\n",
    "plt.ylabel('CCS Error')\n",
    "plt.hlines(y = 0.0, xmin = -0.5, xmax= 45.5, linestyles='--', colors='grey')\n",
    "plt.tight_layout()\n",
    "plt.show()"
   ]
  },
  {
   "cell_type": "markdown",
   "metadata": {},
   "source": [
    "# AlphaPeptDeep Training Set"
   ]
  },
  {
   "cell_type": "markdown",
   "metadata": {},
   "source": [
    "Short Analysis of the Training Set used for AlphaPeptDeep's CCS Model"
   ]
  },
  {
   "cell_type": "code",
   "execution_count": null,
   "metadata": {},
   "outputs": [],
   "source": [
    "df_lys = pd.read_csv('alpha_trainset/Hela_lys/evidence.txt', sep ='\\t')"
   ]
  },
  {
   "cell_type": "code",
   "execution_count": null,
   "metadata": {},
   "outputs": [],
   "source": [
    "df_tryp = pd.read_csv('alpha_trainset/Hela_trypsin/evidence.txt', sep = '\\t')"
   ]
  },
  {
   "cell_type": "code",
   "execution_count": null,
   "metadata": {},
   "outputs": [],
   "source": [
    "df_train = pd.concat([df_lys, df_tryp], axis = 0)"
   ]
  },
  {
   "cell_type": "code",
   "execution_count": null,
   "metadata": {},
   "outputs": [],
   "source": [
    "for charge in df_train['Charge'].unique():\n",
    "    print(f\"Charge {charge}:{len(df_train[df_train['Charge']==charge])}\")"
   ]
  },
  {
   "cell_type": "code",
   "execution_count": null,
   "metadata": {},
   "outputs": [],
   "source": [
    "plt.hist(x = df_train['Length'], bins = 60)\n",
    "print(df_train['Length'].min())\n",
    "print(df_train['Length'].max())"
   ]
  },
  {
   "cell_type": "code",
   "execution_count": null,
   "metadata": {},
   "outputs": [],
   "source": [
    "# range CCS\n",
    "print(df_train['CCS'].min())\n",
    "print(df_train['CCS'].max())\n",
    "print(df_train['CCS'].max()-df_train['CCS'].min())"
   ]
  },
  {
   "cell_type": "code",
   "execution_count": null,
   "metadata": {},
   "outputs": [],
   "source": [
    "# range 1/K0\n",
    "print(df_train['K0'].min())\n",
    "print(df_train['K0'].max())\n",
    "print(df_train['K0'].max()-df_train['K0'].min())"
   ]
  },
  {
   "cell_type": "code",
   "execution_count": null,
   "metadata": {},
   "outputs": [],
   "source": [
    "print(df_train.columns)"
   ]
  }
 ],
 "metadata": {
  "kernelspec": {
   "display_name": "Python 3",
   "language": "python",
   "name": "python3"
  },
  "language_info": {
   "codemirror_mode": {
    "name": "ipython",
    "version": 3
   },
   "file_extension": ".py",
   "mimetype": "text/x-python",
   "name": "python",
   "nbconvert_exporter": "python",
   "pygments_lexer": "ipython3",
   "version": "3.10.14"
  }
 },
 "nbformat": 4,
 "nbformat_minor": 2
}
