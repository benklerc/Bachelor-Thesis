{
 "cells": [
  {
   "cell_type": "markdown",
   "metadata": {},
   "source": [
    "# Imports"
   ]
  },
  {
   "cell_type": "code",
   "execution_count": 2,
   "metadata": {},
   "outputs": [],
   "source": [
    "import pandas as pd\n",
    "import matplotlib.pyplot as plt\n",
    "import numpy as np\n",
    "\n",
    "%run methods_exploratory_analysis.ipynb"
   ]
  },
  {
   "cell_type": "code",
   "execution_count": null,
   "metadata": {},
   "outputs": [],
   "source": [
    "df = pd.read_csv(\"evidence_freshfrozen.txt\",  sep=\"\\t\")"
   ]
  },
  {
   "cell_type": "markdown",
   "metadata": {},
   "source": [
    "# Exploratory Analysis"
   ]
  },
  {
   "cell_type": "code",
   "execution_count": 3,
   "metadata": {},
   "outputs": [],
   "source": [
    "# subset dataset\n",
    "df_51 = df[df[\"Experiment\"]=='P064051']\n",
    "df_64 = df[df[\"Experiment\"]=='P064064']\n",
    "df_28 = df[df[\"Experiment\"]=='P064428']"
   ]
  },
  {
   "cell_type": "markdown",
   "metadata": {},
   "source": [
    "## General"
   ]
  },
  {
   "cell_type": "code",
   "execution_count": null,
   "metadata": {},
   "outputs": [],
   "source": [
    "# range CCS\n",
    "print(df['CCS'].min())\n",
    "print(df['CCS'].max())\n",
    "print(df['CCS'].max()-df['CCS'].min())"
   ]
  },
  {
   "cell_type": "code",
   "execution_count": null,
   "metadata": {},
   "outputs": [],
   "source": [
    "# range 1/K0\n",
    "print(df['1/K0'].min())\n",
    "print(df['1/K0'].max())\n",
    "print(df['1/K0'].max()-df['1/K0'].min())"
   ]
  },
  {
   "cell_type": "markdown",
   "metadata": {},
   "source": [
    "## Differentiation of Isomers"
   ]
  },
  {
   "cell_type": "code",
   "execution_count": 8,
   "metadata": {},
   "outputs": [],
   "source": [
    "%run methods_exploratory_analysis.ipynb\n",
    "df_isomers = find_isomers(df, 'm/z', 0.0)"
   ]
  },
  {
   "cell_type": "markdown",
   "metadata": {},
   "source": [
    "### RT Range"
   ]
  },
  {
   "cell_type": "code",
   "execution_count": 9,
   "metadata": {},
   "outputs": [],
   "source": [
    "# Check RT for all isomers\n",
    "im_diff_df = df_isomers[['Set', 'Retention time', 'Fraction','Experiment']]\n",
    "grouped_diff_df = im_diff_df.groupby('Set')['Retention time'].max()- im_diff_df.groupby('Set')['Retention time'].min()\n",
    "grouped_diff_df = grouped_diff_df.reset_index()\n"
   ]
  },
  {
   "cell_type": "code",
   "execution_count": null,
   "metadata": {},
   "outputs": [],
   "source": [
    "# Histogram of Sets per RT range\n",
    "# Figure 4.1 a\n",
    "plt.figure(figsize=(10, 6))\n",
    "plt.hist(x= grouped_diff_df['Retention time'], bins = 100)[2]\n",
    "plt.axvline(x=1.8, color='black', linestyle='--')\n",
    "plt.xlabel('RT Range', fontsize = 20)\n",
    "plt.ylabel('Number of Sets', fontsize = 20)"
   ]
  },
  {
   "cell_type": "code",
   "execution_count": 11,
   "metadata": {},
   "outputs": [],
   "source": [
    "# Apply Delta95 of RT for 30 min Gradient\n",
    "isomers_rt = df_isomers[(df_isomers['Set'].isin(grouped_diff_df[grouped_diff_df['Retention time']<=1.80]['Set']))]"
   ]
  },
  {
   "cell_type": "markdown",
   "metadata": {},
   "source": [
    "### IM Difference"
   ]
  },
  {
   "cell_type": "code",
   "execution_count": 12,
   "metadata": {},
   "outputs": [],
   "source": [
    "# Check 1/K0 for all isomers\n",
    "im_diff_df = isomers_rt[['Set', '1/K0', 'Fraction','Experiment']]\n",
    "grouped_diff_df = im_diff_df.groupby('Set')['1/K0'].max()- im_diff_df.groupby('Set')['1/K0'].min()\n",
    "grouped_diff_df = grouped_diff_df.reset_index()"
   ]
  },
  {
   "cell_type": "code",
   "execution_count": null,
   "metadata": {},
   "outputs": [],
   "source": [
    "# Histogram of Sets per IM Range\n",
    "# Figure 4.1 b\n",
    "plt.figure(figsize=(10, 6))\n",
    "plt.hist(x=( grouped_diff_df['1/K0']), bins = 100)\n",
    "plt.xlabel('1/K0 Range', fontsize = 20)\n",
    "plt.ylabel('Number of Sets', fontsize = 20)"
   ]
  },
  {
   "cell_type": "markdown",
   "metadata": {},
   "source": [
    "## Influences of PTMs on IM"
   ]
  },
  {
   "cell_type": "code",
   "execution_count": null,
   "metadata": {},
   "outputs": [],
   "source": [
    "# Calculate Differences of PTMs to Unmodfied Peptides\n",
    "# Table 4.1\n",
    "%run methods_exploratory_analysis.ipynb\n",
    "mod_list = ['Unmodified', 'Acetyl (Protein N-term)', 'Acetyl (Protein N-term),Oxidation (M)', 'Acetyl (Protein N-term),2 Oxidation (M)', 'Acetyl (Protein N-term),3 Oxidation (M)', 'Oxidation (M)',\n",
    "            '2 Oxidation (M)', '3 Oxidation (M)', '4 Oxidation (M)', '5 Oxidation (M)']\n",
    "prop_list = ['Mass', 'Retention time', '1/K0']\n",
    "for prop in prop_list:\n",
    "    print(f'Difference in {prop}')\n",
    "    counter = 0\n",
    "    for mod in mod_list:\n",
    "        df_diff = difference_mass_modification(df, mod, prop)\n",
    "        print(f\"{mod}: {df_diff['Difference'].mean()}, {df_diff['Difference'].std()}\")\n",
    "        counter +=1\n",
    "    print()\n"
   ]
  },
  {
   "cell_type": "markdown",
   "metadata": {},
   "source": [
    "## Matrix Effect"
   ]
  },
  {
   "cell_type": "markdown",
   "metadata": {},
   "source": [
    "### Experiment 51"
   ]
  },
  {
   "cell_type": "code",
   "execution_count": null,
   "metadata": {},
   "outputs": [],
   "source": [
    "df_top_ten_51= get_peptides_across_many_fractions(df_51, 46)"
   ]
  },
  {
   "cell_type": "code",
   "execution_count": 16,
   "metadata": {},
   "outputs": [],
   "source": [
    "# Selected Peptides for Plot\n",
    "include= ['_FLISLLEEYFK_','_QTTAAAAATFSEQVGGGSGGAGR_', '_YLATASTMDHAR_', '_ALFSSITDSEK_', '_FFLTGTSIFVK_', '_GASDFLSFAVK_', '_GDFTFFIDTFK_', \n",
    "'_GFVIDDGLITK_' , '_GHYTEGAELVDSVLDVVR_', '_HNDDEQYAWESSAGGSFTVR_']"
   ]
  },
  {
   "cell_type": "code",
   "execution_count": null,
   "metadata": {},
   "outputs": [],
   "source": [
    "# Scatter Plots: Matrix Effect over different Measurements\n",
    "# Figure 4.2\n",
    "%run methods_exploratory_analysis.ipynb\n",
    "plot_scatter( df_top_ten_51[df_top_ten_51['Modified sequence'].isin(include)],y='Fraction', x= 'Mass', c=['Modified sequence','Charge'])\n",
    "plot_scatter(df_top_ten_51[df_top_ten_51['Modified sequence'].isin(include)], y='Fraction', x= 'Retention time', c=['Modified sequence','Charge'])\n",
    "plot_scatter(df_top_ten_51[df_top_ten_51['Modified sequence'].isin(include)], y='Fraction', x= '1/K0', c=['Modified sequence','Charge'])"
   ]
  },
  {
   "cell_type": "markdown",
   "metadata": {},
   "source": [
    "## Uncertainty of Measurements"
   ]
  },
  {
   "cell_type": "code",
   "execution_count": 6,
   "metadata": {},
   "outputs": [],
   "source": [
    "# Choose Category for Analysis\n",
    "cat = 'CCS' # '1/K0'"
   ]
  },
  {
   "cell_type": "code",
   "execution_count": 7,
   "metadata": {},
   "outputs": [],
   "source": [
    "# Calculate mean between same measurements\n",
    "grouped_df = df.groupby(['Modified sequence', 'Charge'])\n",
    "df_filtered = grouped_df.filter(lambda x: len(x) > 1)\n",
    "group_means = df_filtered.groupby(['Modified sequence', 'Charge'])[cat].mean().reset_index()\n",
    "df_uncertainty = pd.merge(df_filtered, group_means, on=['Modified sequence', 'Charge'], suffixes=('', '_mean'))"
   ]
  },
  {
   "cell_type": "code",
   "execution_count": 8,
   "metadata": {},
   "outputs": [],
   "source": [
    "# Calculate Error\n",
    "df_uncertainty[f'{cat}_error'] = np.subtract(df_uncertainty[f'{cat}_mean'], df_uncertainty[cat])"
   ]
  },
  {
   "cell_type": "code",
   "execution_count": null,
   "metadata": {},
   "outputs": [],
   "source": [
    "# Percentile of Measurement Error\n",
    "# Table 4.3\n",
    "%run alpha_pept_deep_methods.ipynb\n",
    "delta95 = percentiles(df_uncertainty, f'{cat}_error')\n",
    "print(f\"2.5 Percentile: {delta95[0]}, 97.5 Percentile: {delta95[1]}, Delta95: {delta95[2]}\")"
   ]
  }
 ],
 "metadata": {
  "kernelspec": {
   "display_name": "Python 3",
   "language": "python",
   "name": "python3"
  },
  "language_info": {
   "codemirror_mode": {
    "name": "ipython",
    "version": 3
   },
   "file_extension": ".py",
   "mimetype": "text/x-python",
   "name": "python",
   "nbconvert_exporter": "python",
   "pygments_lexer": "ipython3",
   "version": "3.10.13"
  }
 },
 "nbformat": 4,
 "nbformat_minor": 2
}
