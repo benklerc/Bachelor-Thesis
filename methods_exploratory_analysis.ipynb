{
 "cells": [
  {
   "cell_type": "code",
   "execution_count": null,
   "metadata": {},
   "outputs": [],
   "source": [
    "import pandas as pd\n",
    "import matplotlib.pyplot as plt"
   ]
  },
  {
   "cell_type": "markdown",
   "metadata": {},
   "source": [
    "# find_isomers(df, column, threshhold)"
   ]
  },
  {
   "cell_type": "code",
   "execution_count": null,
   "metadata": {},
   "outputs": [],
   "source": [
    "def find_isomers(df: pd.DataFrame, column: str, threshhold: float):\n",
    "    '''\n",
    "    finds peptides which are closer/as close to each other than the threshsold in the given column;\n",
    "    returns dataframe with all isomers and set column\n",
    "    '''\n",
    "    \n",
    "    df = df.drop_duplicates(subset=['Sequence', column], ignore_index=True)\n",
    "    df = df.sort_values(by=column, ignore_index=True)\n",
    "    mass_diff = df[column].diff().shift(-1)\n",
    "    mask = mass_diff <= threshhold\n",
    "    mask_shift = mask.shift(1)\n",
    "    mask_shift = mask_shift.fillna(False)\n",
    "    mask_join = mask | mask_shift\n",
    "    isomers_df = df[mask_join]\n",
    "    # make set column\n",
    "    counter = 0\n",
    "    new_col = []\n",
    "    for index in mask.index:\n",
    "        if mask[index] == True:\n",
    "            new_col.append(counter)        \n",
    "            if mask[index+1] == False:\n",
    "                new_col.append(counter)\n",
    "                counter+=1\n",
    "    isomers_df.insert(loc = 1, column='Set',value = new_col)\n",
    "    return isomers_df"
   ]
  },
  {
   "cell_type": "markdown",
   "metadata": {},
   "source": [
    "# plot_scatter(df, x, y, c, (figsize))"
   ]
  },
  {
   "cell_type": "code",
   "execution_count": null,
   "metadata": {},
   "outputs": [],
   "source": [
    "def plot_scatter(df: pd.DataFrame, x: str, y: str, c: str, figsize=(10,6)):     \n",
    "    # makes scatter plot\n",
    "    fig, ax = plt.subplots(figsize=figsize)   \n",
    "    legend_labels = []\n",
    "    for category, group in df.groupby(c):\n",
    "        ax.scatter(group[x], group[y], label=category)\n",
    "        legend_labels.append(category)\n",
    "\n",
    "    ax.set_xlabel(x)\n",
    "    ax.set_ylabel(y)\n",
    "    ax.legend(title = c,labels=legend_labels[:3*figsize[1]],  bbox_to_anchor=(1.0, 1.0), loc='upper left', ncols = 1)\n",
    "    if len(legend_labels)> (3*figsize[1]):\n",
    "        print(f'{len(legend_labels)} Labels, but only {3*figsize[1]} shown')\n",
    "\n",
    "    plt.show()"
   ]
  },
  {
   "cell_type": "markdown",
   "metadata": {},
   "source": [
    "# get_peptides_across_many_fractions(df, cutoff, cat)"
   ]
  },
  {
   "cell_type": "code",
   "execution_count": null,
   "metadata": {},
   "outputs": [],
   "source": [
    "def get_peptides_across_many_fractions(df:pd.DataFrame, cutoff:int, cat = 'Sequence'):\n",
    "    '''\n",
    "    cat: category for grouping\n",
    "    ------\n",
    "    returns a dataframe with peptides which appear in more fractions than the cutoff\n",
    "    same columns as in df before, added Color column\n",
    "    '''\n",
    "    # over different fractions\n",
    "    df_drop = df.drop_duplicates(subset=['Sequence', 'Fraction', 'Experiment', 'Proteins'], ignore_index=True)\n",
    "    df_drop = df_drop[['Sequence', 'Fraction', 'Experiment', 'Proteins']]\n",
    "\n",
    "    # make new table with unique sequence, in how many fractions and how many experiments\n",
    "    df_unique = df_drop[['Sequence', 'Fraction', 'Experiment']]\n",
    "    df_unique = df_unique.groupby(cat).agg({'Experiment': 'nunique', 'Fraction': 'nunique'}).reset_index()\n",
    "\n",
    "    # Rename the columns for clarity\n",
    "    df_unique.columns = [cat, 'num_experiments', 'num_fractions']\n",
    "    top_ten_seqs = df_unique[df_unique['num_fractions']>=cutoff][[cat]].values.flatten()\n",
    "    df_top = df[df[cat].isin(top_ten_seqs)]\n",
    "    df_top['Color'] = pd.Categorical(df_top[cat]).codes\n",
    "    return df_top"
   ]
  },
  {
   "cell_type": "markdown",
   "metadata": {},
   "source": [
    "# difference_mass_modifications(df, modification, property)"
   ]
  },
  {
   "cell_type": "code",
   "execution_count": null,
   "metadata": {},
   "outputs": [],
   "source": [
    "def difference_mass_modification(df: pd.DataFrame, modification: str, property: str, threshhold=10000):\n",
    "    '''\n",
    "    Calculates the Difference of Peptides with the specified Modification to the Mean Value of its unmodifed Version\n",
    "    '''\n",
    "    df_mod = df[df['Modifications'] == modification]\n",
    "    df_mod = df_mod.dropna(subset=[property])\n",
    "\n",
    "    if len(df_mod)>threshhold:\n",
    "        df_mod = df_mod.sample(n = threshhold, random_state=42)\n",
    "    \n",
    "    # create dataframe with sequence-> mean of property over sequence\n",
    "    df_unmodified = df[(df['Sequence'].isin(df_mod['Sequence'].tolist())&(df['Modifications']=='Unmodified'))][['Sequence',property]]\n",
    "    grouped_avg = df_unmodified.groupby('Sequence')[property].mean()\n",
    "    grouped_avg_df = grouped_avg.reset_index()\n",
    "\n",
    "    # make difference column\n",
    "    merged_df = pd.merge(df_mod, grouped_avg_df[['Sequence', property]], on='Sequence', suffixes=('_mod', '_unmod'), how='inner')\n",
    "\n",
    "    # Calculate difference and add as a new column in df1\n",
    "    merged_df['Difference'] = merged_df[f'{property}_mod'] - merged_df[f'{property}_unmod']   \n",
    "\n",
    "    return merged_df"
   ]
  }
 ],
 "metadata": {
  "language_info": {
   "name": "python"
  }
 },
 "nbformat": 4,
 "nbformat_minor": 2
}
