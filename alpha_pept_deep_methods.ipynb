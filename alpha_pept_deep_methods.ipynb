{
 "cells": [
  {
   "cell_type": "code",
   "execution_count": null,
   "metadata": {},
   "outputs": [],
   "source": [
    "import pandas as pd\n",
    "import numpy as np"
   ]
  },
  {
   "cell_type": "markdown",
   "metadata": {},
   "source": [
    "# fill_modified_sequence"
   ]
  },
  {
   "cell_type": "code",
   "execution_count": null,
   "metadata": {},
   "outputs": [],
   "source": [
    "def fill_modified_sequence(df:pd.DataFrame):\n",
    "    '''\n",
    "        Manipulates df['Modified sequence]\n",
    "        if it is NaN\n",
    "        Unmodified -> _Sequence_\n",
    "        Acetly -> _Acetyl(N term)Sequence_\n",
    "        Oxidation -> _Sequence.replace('M', 'M(Oxidation (M)))_ (Only if #Oxidations == Appearances of Methionine)\n",
    "    '''\n",
    "    for index, row in df.iterrows():\n",
    "        if pd.isnull(row['Modified sequence']):\n",
    "            if row['Modifications'] == 'Unmodified':\n",
    "                df.loc[index,'Modified sequence'] = f'_{row[\"Sequence\"]}_'\n",
    "            else:\n",
    "                if row['Acetyl (Protein N-term)'] == 1 :\n",
    "                    df.loc[index,'Modified sequence'] = f'_(Acetyl (Protein N-term)){row[\"Sequence\"]}_'\n",
    "                if row['Oxidation (M)'] > 0:\n",
    "                    if row['Oxidation (M)'] == row['Sequence'].count('M'): # Check if all Mehtionine are Oxidated\n",
    "                        if pd.isnull(df.loc[index,'Modified sequence']): # Check if a string was added before from acetylation of n term\n",
    "                            df.loc[index,'Modified sequence'] = f\"_{row['Sequence'].replace('M', 'M(Oxidation (M))')}_\"\n",
    "                        else:\n",
    "                            df.loc[index,'Modified sequence'] = f\"{df.loc[index,'Modified sequence'].replace('M', 'M(Oxidation (M))')}\"\n",
    "                    \n",
    "                    \n",
    "    return df"
   ]
  },
  {
   "cell_type": "markdown",
   "metadata": {},
   "source": [
    "# MaxQuant Format to AlphaBase Format"
   ]
  },
  {
   "cell_type": "code",
   "execution_count": null,
   "metadata": {},
   "outputs": [],
   "source": [
    "def mq_to_ab(df: pd.DataFrame):\n",
    "    '''\n",
    "    Turns DataFrames from MaxQuant into a DataFrame which can be read by AlphaPeptDeep\n",
    "    Introduces Column to make it possible to merge the AlphaBase Format again with the original DataFrame in MaxQuant Format\n",
    "    '''\n",
    "    df.loc[:,'Original index'] = df.index\n",
    "    # run AlphaBase\n",
    "    mq_reader = psm_reader_provider.get_reader('maxquant')\n",
    "    mq_reader.column_mapping['Original index'] = 'Original index'\n",
    "    mq_reader._translate_columns(df)\n",
    "    mq_reader._transform_table(df)\n",
    "    mq_reader._translate_decoy(df)\n",
    "    mq_reader._translate_score(df)\n",
    "    mq_reader._load_modifications(df)\n",
    "    mq_reader._translate_modifications()\n",
    "    mq_reader._post_process(df)  \n",
    "    df_ab = mq_reader.psm_df\n",
    "    return df_ab"
   ]
  },
  {
   "cell_type": "markdown",
   "metadata": {},
   "source": [
    "# AlphaBase Format to MaxQuant Format"
   ]
  },
  {
   "cell_type": "code",
   "execution_count": null,
   "metadata": {},
   "outputs": [],
   "source": [
    "def ab_to_mq(df_max_quant: pd.DataFrame, df_alpha_base:pd.DataFrame):\n",
    "    '''\n",
    "    Merges DataFrame from AlphaBase Format with DataFrame in MaxQuant Format\n",
    "    Returns merged DataFrame in MAxQuant Format with new columns: 'ccs_pred', 'IM_pred', 'ccs_error', 'IM_error'\n",
    "    '''\n",
    "    mapping_dict = {\n",
    "                'sequence': 'Sequence',\n",
    "                'charge': 'Charge',\n",
    "                'rt': 'Retention time',\n",
    "                'ccs': 'CCS',\n",
    "                'mobility': '1/K0',\n",
    "                'scan_num': 'MS/MS scan number',\n",
    "                'raw_name': 'Raw file',\n",
    "                'precursor_mz': 'm/z',\n",
    "                'score': 'Score',\n",
    "                'proteins': 'Proteins',\n",
    "                'genes': 'Gene names',\n",
    "                'decoy': 'Reverse',\n",
    "                'intensity': 'Intensity',\n",
    "                'nAA':'Length'}\n",
    "    merging_list = ['Sequence', 'Charge', 'CCS', 'Score', 'Length', 'Retention time', 'Proteins', 'Gene names','1/K0' , 'MS/MS scan number', 'Raw file'\n",
    "                                                    , 'm/z', 'Intensity' ]\n",
    "            # rename the columns of the alphabase dataframe according to the mapredictionping dict\n",
    "    df_alpha_base.rename(columns=mapping_dict, inplace=True)\n",
    "            # set the original index as index\n",
    "    df_alpha_base.set_index('Original index', inplace=True)\n",
    "    df_merged = pd.merge(df_max_quant, df_alpha_base, on = merging_list, how = 'inner')\n",
    "    df_merged['ccs_error'] = np.subtract(df_merged['CCS'], df_merged['ccs_pred'])\n",
    "    df_merged['IM_error'] = np.subtract(df_merged['1/K0'], df_merged['mobility_pred'])\n",
    "    return df_merged"
   ]
  },
  {
   "cell_type": "markdown",
   "metadata": {},
   "source": [
    "# Percentiles"
   ]
  },
  {
   "cell_type": "code",
   "execution_count": null,
   "metadata": {},
   "outputs": [],
   "source": [
    "def percentiles(df: pd.DataFrame, cat: str):\n",
    "    '''\n",
    "    Returns all details for the Delta95 Metric\n",
    "    '''\n",
    "    perc_low = np.percentile(df[cat], 2.5)\n",
    "    perc_up = np.percentile(df[cat], 97.5)\n",
    "    delta95= (perc_low)*(-1)+perc_up\n",
    "    return [perc_low, perc_up, delta95]\n"
   ]
  }
 ],
 "metadata": {
  "language_info": {
   "name": "python"
  }
 },
 "nbformat": 4,
 "nbformat_minor": 2
}
